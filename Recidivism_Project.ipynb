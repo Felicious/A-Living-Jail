{
  "nbformat": 4,
  "nbformat_minor": 0,
  "metadata": {
    "colab": {
      "name": "Recidivism_Project.ipynb",
      "version": "0.3.2",
      "provenance": [],
      "collapsed_sections": [
        "agwN8BiNBbPd",
        "X4KLFfFDD3A5",
        "5Z1E7UStIm9H",
        "Z02r8sjkNjZT",
        "QJ3xOijoPaje"
      ],
      "include_colab_link": true
    },
    "kernelspec": {
      "name": "python2",
      "display_name": "Python 2"
    }
  },
  "cells": [
    {
      "cell_type": "markdown",
      "metadata": {
        "id": "view-in-github",
        "colab_type": "text"
      },
      "source": [
        "<a href=\"https://colab.research.google.com/github/Felicious/A-Living-Jail/blob/master/Recidivism_Project.ipynb\" target=\"_parent\"><img src=\"https://colab.research.google.com/assets/colab-badge.svg\" alt=\"Open In Colab\"/></a>"
      ]
    },
    {
      "cell_type": "markdown",
      "metadata": {
        "id": "kge5tA4XE0dC",
        "colab_type": "text"
      },
      "source": [
        "**Recidivism**\n",
        "Team Members: Kaleb Cervantes, Sinclair Chen, Felicia Kuan, Vidya Pingali\n",
        "\n",
        "**Description**\n",
        "Data analysis project analyzing the potential bias of Florida's Brown County's criminal recidivism algorithm used for the decisions about releasing criminals for pre-trial, depending on the algorithm's score for the criminal's likelihood of re-offense. \n",
        "\n",
        "**Dataset Source**\n",
        "Broward County Clerk’s Office, Broward County Sherrif's Office, Florida Department of Corrections, ProPublica\n",
        "https://www.propublica.org/datastore/dataset/compas-recidivism-risk-score-data-and-analysis"
      ]
    },
    {
      "cell_type": "markdown",
      "metadata": {
        "id": "agwN8BiNBbPd",
        "colab_type": "text"
      },
      "source": [
        "#Importing Libraries"
      ]
    },
    {
      "cell_type": "code",
      "metadata": {
        "id": "Arv1gylmaxfH",
        "colab_type": "code",
        "colab": {}
      },
      "source": [
        "#importing libraries\n",
        "import pandas as pd\n",
        "import numpy as np\n",
        "import matplotlib.pyplot as plt\n",
        "from sklearn.linear_model import LogisticRegression\n",
        "from sklearn import preprocessing as pre\n",
        "from sklearn.metrics import mean_squared_error\n",
        "from sklearn.neighbors import KNeighborsClassifier"
      ],
      "execution_count": 0,
      "outputs": []
    },
    {
      "cell_type": "markdown",
      "metadata": {
        "id": "X4KLFfFDD3A5",
        "colab_type": "text"
      },
      "source": [
        "#Getting and Organizing Data"
      ]
    },
    {
      "cell_type": "markdown",
      "metadata": {
        "id": "5Z1E7UStIm9H",
        "colab_type": "text"
      },
      "source": [
        "## Getting the data"
      ]
    },
    {
      "cell_type": "markdown",
      "metadata": {
        "id": "vJ9H4vlnEApl",
        "colab_type": "text"
      },
      "source": [
        "This cell gets the url for the dataset"
      ]
    },
    {
      "cell_type": "code",
      "metadata": {
        "id": "lu8Fvc8jEMPl",
        "colab_type": "code",
        "colab": {}
      },
      "source": [
        "url = 'https://raw.githubusercontent.com/propublica/compas-analysis/master/compas-scores-raw.csv'"
      ],
      "execution_count": 0,
      "outputs": []
    },
    {
      "cell_type": "markdown",
      "metadata": {
        "id": "ZVjRyoS_ESoS",
        "colab_type": "text"
      },
      "source": [
        "This usrl is then used to create a dataframe. When observed, we can see that each person takes up 3 rows of the dataframe."
      ]
    },
    {
      "cell_type": "code",
      "metadata": {
        "id": "iNS9vOm9Ej_s",
        "colab_type": "code",
        "outputId": "8a6684db-b8f7-466a-ba7a-8d1cf955ec82",
        "colab": {
          "base_uri": "https://localhost:8080/",
          "height": 454
        }
      },
      "source": [
        "#create dataframe from dataset\n",
        "data = pd.read_csv(url)\n",
        "\n",
        "data.head(6)"
      ],
      "execution_count": 0,
      "outputs": [
        {
          "output_type": "execute_result",
          "data": {
            "text/html": [
              "<div>\n",
              "<style scoped>\n",
              "    .dataframe tbody tr th:only-of-type {\n",
              "        vertical-align: middle;\n",
              "    }\n",
              "\n",
              "    .dataframe tbody tr th {\n",
              "        vertical-align: top;\n",
              "    }\n",
              "\n",
              "    .dataframe thead th {\n",
              "        text-align: right;\n",
              "    }\n",
              "</style>\n",
              "<table border=\"1\" class=\"dataframe\">\n",
              "  <thead>\n",
              "    <tr style=\"text-align: right;\">\n",
              "      <th></th>\n",
              "      <th>Person_ID</th>\n",
              "      <th>AssessmentID</th>\n",
              "      <th>Case_ID</th>\n",
              "      <th>Agency_Text</th>\n",
              "      <th>LastName</th>\n",
              "      <th>FirstName</th>\n",
              "      <th>MiddleName</th>\n",
              "      <th>Sex_Code_Text</th>\n",
              "      <th>Ethnic_Code_Text</th>\n",
              "      <th>DateOfBirth</th>\n",
              "      <th>...</th>\n",
              "      <th>RecSupervisionLevel</th>\n",
              "      <th>RecSupervisionLevelText</th>\n",
              "      <th>Scale_ID</th>\n",
              "      <th>DisplayText</th>\n",
              "      <th>RawScore</th>\n",
              "      <th>DecileScore</th>\n",
              "      <th>ScoreText</th>\n",
              "      <th>AssessmentType</th>\n",
              "      <th>IsCompleted</th>\n",
              "      <th>IsDeleted</th>\n",
              "    </tr>\n",
              "  </thead>\n",
              "  <tbody>\n",
              "    <tr>\n",
              "      <th>0</th>\n",
              "      <td>50844</td>\n",
              "      <td>57167</td>\n",
              "      <td>51950</td>\n",
              "      <td>PRETRIAL</td>\n",
              "      <td>Fisher</td>\n",
              "      <td>Kevin</td>\n",
              "      <td>NaN</td>\n",
              "      <td>Male</td>\n",
              "      <td>Caucasian</td>\n",
              "      <td>12/05/92</td>\n",
              "      <td>...</td>\n",
              "      <td>1</td>\n",
              "      <td>Low</td>\n",
              "      <td>7</td>\n",
              "      <td>Risk of Violence</td>\n",
              "      <td>-2.08</td>\n",
              "      <td>4</td>\n",
              "      <td>Low</td>\n",
              "      <td>New</td>\n",
              "      <td>1</td>\n",
              "      <td>0</td>\n",
              "    </tr>\n",
              "    <tr>\n",
              "      <th>1</th>\n",
              "      <td>50844</td>\n",
              "      <td>57167</td>\n",
              "      <td>51950</td>\n",
              "      <td>PRETRIAL</td>\n",
              "      <td>Fisher</td>\n",
              "      <td>Kevin</td>\n",
              "      <td>NaN</td>\n",
              "      <td>Male</td>\n",
              "      <td>Caucasian</td>\n",
              "      <td>12/05/92</td>\n",
              "      <td>...</td>\n",
              "      <td>1</td>\n",
              "      <td>Low</td>\n",
              "      <td>8</td>\n",
              "      <td>Risk of Recidivism</td>\n",
              "      <td>-1.06</td>\n",
              "      <td>2</td>\n",
              "      <td>Low</td>\n",
              "      <td>New</td>\n",
              "      <td>1</td>\n",
              "      <td>0</td>\n",
              "    </tr>\n",
              "    <tr>\n",
              "      <th>2</th>\n",
              "      <td>50844</td>\n",
              "      <td>57167</td>\n",
              "      <td>51950</td>\n",
              "      <td>PRETRIAL</td>\n",
              "      <td>Fisher</td>\n",
              "      <td>Kevin</td>\n",
              "      <td>NaN</td>\n",
              "      <td>Male</td>\n",
              "      <td>Caucasian</td>\n",
              "      <td>12/05/92</td>\n",
              "      <td>...</td>\n",
              "      <td>1</td>\n",
              "      <td>Low</td>\n",
              "      <td>18</td>\n",
              "      <td>Risk of Failure to Appear</td>\n",
              "      <td>15.00</td>\n",
              "      <td>1</td>\n",
              "      <td>Low</td>\n",
              "      <td>New</td>\n",
              "      <td>1</td>\n",
              "      <td>0</td>\n",
              "    </tr>\n",
              "    <tr>\n",
              "      <th>3</th>\n",
              "      <td>50848</td>\n",
              "      <td>57174</td>\n",
              "      <td>51956</td>\n",
              "      <td>PRETRIAL</td>\n",
              "      <td>KENDALL</td>\n",
              "      <td>KEVIN</td>\n",
              "      <td>NaN</td>\n",
              "      <td>Male</td>\n",
              "      <td>Caucasian</td>\n",
              "      <td>09/16/84</td>\n",
              "      <td>...</td>\n",
              "      <td>1</td>\n",
              "      <td>Low</td>\n",
              "      <td>7</td>\n",
              "      <td>Risk of Violence</td>\n",
              "      <td>-2.84</td>\n",
              "      <td>2</td>\n",
              "      <td>Low</td>\n",
              "      <td>New</td>\n",
              "      <td>1</td>\n",
              "      <td>0</td>\n",
              "    </tr>\n",
              "    <tr>\n",
              "      <th>4</th>\n",
              "      <td>50848</td>\n",
              "      <td>57174</td>\n",
              "      <td>51956</td>\n",
              "      <td>PRETRIAL</td>\n",
              "      <td>KENDALL</td>\n",
              "      <td>KEVIN</td>\n",
              "      <td>NaN</td>\n",
              "      <td>Male</td>\n",
              "      <td>Caucasian</td>\n",
              "      <td>09/16/84</td>\n",
              "      <td>...</td>\n",
              "      <td>1</td>\n",
              "      <td>Low</td>\n",
              "      <td>8</td>\n",
              "      <td>Risk of Recidivism</td>\n",
              "      <td>-1.50</td>\n",
              "      <td>1</td>\n",
              "      <td>Low</td>\n",
              "      <td>New</td>\n",
              "      <td>1</td>\n",
              "      <td>0</td>\n",
              "    </tr>\n",
              "    <tr>\n",
              "      <th>5</th>\n",
              "      <td>50848</td>\n",
              "      <td>57174</td>\n",
              "      <td>51956</td>\n",
              "      <td>PRETRIAL</td>\n",
              "      <td>KENDALL</td>\n",
              "      <td>KEVIN</td>\n",
              "      <td>NaN</td>\n",
              "      <td>Male</td>\n",
              "      <td>Caucasian</td>\n",
              "      <td>09/16/84</td>\n",
              "      <td>...</td>\n",
              "      <td>1</td>\n",
              "      <td>Low</td>\n",
              "      <td>18</td>\n",
              "      <td>Risk of Failure to Appear</td>\n",
              "      <td>19.00</td>\n",
              "      <td>3</td>\n",
              "      <td>Low</td>\n",
              "      <td>New</td>\n",
              "      <td>1</td>\n",
              "      <td>0</td>\n",
              "    </tr>\n",
              "  </tbody>\n",
              "</table>\n",
              "<p>6 rows × 28 columns</p>\n",
              "</div>"
            ],
            "text/plain": [
              "   Person_ID  AssessmentID  Case_ID Agency_Text LastName FirstName MiddleName  \\\n",
              "0      50844         57167    51950    PRETRIAL   Fisher     Kevin        NaN   \n",
              "1      50844         57167    51950    PRETRIAL   Fisher     Kevin        NaN   \n",
              "2      50844         57167    51950    PRETRIAL   Fisher     Kevin        NaN   \n",
              "3      50848         57174    51956    PRETRIAL  KENDALL     KEVIN        NaN   \n",
              "4      50848         57174    51956    PRETRIAL  KENDALL     KEVIN        NaN   \n",
              "5      50848         57174    51956    PRETRIAL  KENDALL     KEVIN        NaN   \n",
              "\n",
              "  Sex_Code_Text Ethnic_Code_Text DateOfBirth    ...     RecSupervisionLevel  \\\n",
              "0          Male        Caucasian    12/05/92    ...                       1   \n",
              "1          Male        Caucasian    12/05/92    ...                       1   \n",
              "2          Male        Caucasian    12/05/92    ...                       1   \n",
              "3          Male        Caucasian    09/16/84    ...                       1   \n",
              "4          Male        Caucasian    09/16/84    ...                       1   \n",
              "5          Male        Caucasian    09/16/84    ...                       1   \n",
              "\n",
              "  RecSupervisionLevelText Scale_ID                DisplayText RawScore  \\\n",
              "0                     Low        7           Risk of Violence    -2.08   \n",
              "1                     Low        8         Risk of Recidivism    -1.06   \n",
              "2                     Low       18  Risk of Failure to Appear    15.00   \n",
              "3                     Low        7           Risk of Violence    -2.84   \n",
              "4                     Low        8         Risk of Recidivism    -1.50   \n",
              "5                     Low       18  Risk of Failure to Appear    19.00   \n",
              "\n",
              "  DecileScore ScoreText AssessmentType  IsCompleted IsDeleted  \n",
              "0           4       Low            New            1         0  \n",
              "1           2       Low            New            1         0  \n",
              "2           1       Low            New            1         0  \n",
              "3           2       Low            New            1         0  \n",
              "4           1       Low            New            1         0  \n",
              "5           3       Low            New            1         0  \n",
              "\n",
              "[6 rows x 28 columns]"
            ]
          },
          "metadata": {
            "tags": []
          },
          "execution_count": 3
        }
      ]
    },
    {
      "cell_type": "markdown",
      "metadata": {
        "id": "xy2zXRtoIt1E",
        "colab_type": "text"
      },
      "source": [
        "## Cleaning the Data"
      ]
    },
    {
      "cell_type": "markdown",
      "metadata": {
        "id": "g_Oa4ecqI5kU",
        "colab_type": "text"
      },
      "source": [
        "### Dropping Columns"
      ]
    },
    {
      "cell_type": "markdown",
      "metadata": {
        "id": "qGnyI9xVEuY_",
        "colab_type": "text"
      },
      "source": [
        "We can see that many of the columns are not needed, so we drop specific columns from the dataframe."
      ]
    },
    {
      "cell_type": "code",
      "metadata": {
        "id": "eb5Dvp95Faen",
        "colab_type": "code",
        "outputId": "0ec3fb0c-5fa0-41a8-b1a0-3507063b81c5",
        "colab": {
          "base_uri": "https://localhost:8080/",
          "height": 357
        }
      },
      "source": [
        "#drop certain cells from dataset\n",
        "drop_columns = ['LastName', 'FirstName', 'MiddleName', #dropped to protect identity\n",
        "                'AssessmentReason', #same for all entries\n",
        "                'IsDeleted', #same for all entries\n",
        "                'IsCompleted', #same for all entries\n",
        "                'ScaleSet_ID', #redundant info for ScaleSet\n",
        "                'Scale_ID', #redundant info for Scale\n",
        "                'DecileScore' #can be calculated with Pandas\n",
        "               ]\n",
        "\n",
        "#drops these columns from the dataframe\n",
        "data = data.drop(drop_columns, axis = 1)\n",
        "\n",
        "data.head(6)"
      ],
      "execution_count": 0,
      "outputs": [
        {
          "output_type": "execute_result",
          "data": {
            "text/html": [
              "<div>\n",
              "<style scoped>\n",
              "    .dataframe tbody tr th:only-of-type {\n",
              "        vertical-align: middle;\n",
              "    }\n",
              "\n",
              "    .dataframe tbody tr th {\n",
              "        vertical-align: top;\n",
              "    }\n",
              "\n",
              "    .dataframe thead th {\n",
              "        text-align: right;\n",
              "    }\n",
              "</style>\n",
              "<table border=\"1\" class=\"dataframe\">\n",
              "  <thead>\n",
              "    <tr style=\"text-align: right;\">\n",
              "      <th></th>\n",
              "      <th>Person_ID</th>\n",
              "      <th>AssessmentID</th>\n",
              "      <th>Case_ID</th>\n",
              "      <th>Agency_Text</th>\n",
              "      <th>Sex_Code_Text</th>\n",
              "      <th>Ethnic_Code_Text</th>\n",
              "      <th>DateOfBirth</th>\n",
              "      <th>ScaleSet</th>\n",
              "      <th>Language</th>\n",
              "      <th>LegalStatus</th>\n",
              "      <th>CustodyStatus</th>\n",
              "      <th>MaritalStatus</th>\n",
              "      <th>Screening_Date</th>\n",
              "      <th>RecSupervisionLevel</th>\n",
              "      <th>RecSupervisionLevelText</th>\n",
              "      <th>DisplayText</th>\n",
              "      <th>RawScore</th>\n",
              "      <th>ScoreText</th>\n",
              "      <th>AssessmentType</th>\n",
              "    </tr>\n",
              "  </thead>\n",
              "  <tbody>\n",
              "    <tr>\n",
              "      <th>0</th>\n",
              "      <td>50844</td>\n",
              "      <td>57167</td>\n",
              "      <td>51950</td>\n",
              "      <td>PRETRIAL</td>\n",
              "      <td>Male</td>\n",
              "      <td>Caucasian</td>\n",
              "      <td>12/05/92</td>\n",
              "      <td>Risk and Prescreen</td>\n",
              "      <td>English</td>\n",
              "      <td>Pretrial</td>\n",
              "      <td>Jail Inmate</td>\n",
              "      <td>Single</td>\n",
              "      <td>1/1/13 0:00</td>\n",
              "      <td>1</td>\n",
              "      <td>Low</td>\n",
              "      <td>Risk of Violence</td>\n",
              "      <td>-2.08</td>\n",
              "      <td>Low</td>\n",
              "      <td>New</td>\n",
              "    </tr>\n",
              "    <tr>\n",
              "      <th>1</th>\n",
              "      <td>50844</td>\n",
              "      <td>57167</td>\n",
              "      <td>51950</td>\n",
              "      <td>PRETRIAL</td>\n",
              "      <td>Male</td>\n",
              "      <td>Caucasian</td>\n",
              "      <td>12/05/92</td>\n",
              "      <td>Risk and Prescreen</td>\n",
              "      <td>English</td>\n",
              "      <td>Pretrial</td>\n",
              "      <td>Jail Inmate</td>\n",
              "      <td>Single</td>\n",
              "      <td>1/1/13 0:00</td>\n",
              "      <td>1</td>\n",
              "      <td>Low</td>\n",
              "      <td>Risk of Recidivism</td>\n",
              "      <td>-1.06</td>\n",
              "      <td>Low</td>\n",
              "      <td>New</td>\n",
              "    </tr>\n",
              "    <tr>\n",
              "      <th>2</th>\n",
              "      <td>50844</td>\n",
              "      <td>57167</td>\n",
              "      <td>51950</td>\n",
              "      <td>PRETRIAL</td>\n",
              "      <td>Male</td>\n",
              "      <td>Caucasian</td>\n",
              "      <td>12/05/92</td>\n",
              "      <td>Risk and Prescreen</td>\n",
              "      <td>English</td>\n",
              "      <td>Pretrial</td>\n",
              "      <td>Jail Inmate</td>\n",
              "      <td>Single</td>\n",
              "      <td>1/1/13 0:00</td>\n",
              "      <td>1</td>\n",
              "      <td>Low</td>\n",
              "      <td>Risk of Failure to Appear</td>\n",
              "      <td>15.00</td>\n",
              "      <td>Low</td>\n",
              "      <td>New</td>\n",
              "    </tr>\n",
              "    <tr>\n",
              "      <th>3</th>\n",
              "      <td>50848</td>\n",
              "      <td>57174</td>\n",
              "      <td>51956</td>\n",
              "      <td>PRETRIAL</td>\n",
              "      <td>Male</td>\n",
              "      <td>Caucasian</td>\n",
              "      <td>09/16/84</td>\n",
              "      <td>Risk and Prescreen</td>\n",
              "      <td>English</td>\n",
              "      <td>Pretrial</td>\n",
              "      <td>Jail Inmate</td>\n",
              "      <td>Married</td>\n",
              "      <td>1/1/13 0:00</td>\n",
              "      <td>1</td>\n",
              "      <td>Low</td>\n",
              "      <td>Risk of Violence</td>\n",
              "      <td>-2.84</td>\n",
              "      <td>Low</td>\n",
              "      <td>New</td>\n",
              "    </tr>\n",
              "    <tr>\n",
              "      <th>4</th>\n",
              "      <td>50848</td>\n",
              "      <td>57174</td>\n",
              "      <td>51956</td>\n",
              "      <td>PRETRIAL</td>\n",
              "      <td>Male</td>\n",
              "      <td>Caucasian</td>\n",
              "      <td>09/16/84</td>\n",
              "      <td>Risk and Prescreen</td>\n",
              "      <td>English</td>\n",
              "      <td>Pretrial</td>\n",
              "      <td>Jail Inmate</td>\n",
              "      <td>Married</td>\n",
              "      <td>1/1/13 0:00</td>\n",
              "      <td>1</td>\n",
              "      <td>Low</td>\n",
              "      <td>Risk of Recidivism</td>\n",
              "      <td>-1.50</td>\n",
              "      <td>Low</td>\n",
              "      <td>New</td>\n",
              "    </tr>\n",
              "    <tr>\n",
              "      <th>5</th>\n",
              "      <td>50848</td>\n",
              "      <td>57174</td>\n",
              "      <td>51956</td>\n",
              "      <td>PRETRIAL</td>\n",
              "      <td>Male</td>\n",
              "      <td>Caucasian</td>\n",
              "      <td>09/16/84</td>\n",
              "      <td>Risk and Prescreen</td>\n",
              "      <td>English</td>\n",
              "      <td>Pretrial</td>\n",
              "      <td>Jail Inmate</td>\n",
              "      <td>Married</td>\n",
              "      <td>1/1/13 0:00</td>\n",
              "      <td>1</td>\n",
              "      <td>Low</td>\n",
              "      <td>Risk of Failure to Appear</td>\n",
              "      <td>19.00</td>\n",
              "      <td>Low</td>\n",
              "      <td>New</td>\n",
              "    </tr>\n",
              "  </tbody>\n",
              "</table>\n",
              "</div>"
            ],
            "text/plain": [
              "   Person_ID  AssessmentID  Case_ID Agency_Text Sex_Code_Text  \\\n",
              "0      50844         57167    51950    PRETRIAL          Male   \n",
              "1      50844         57167    51950    PRETRIAL          Male   \n",
              "2      50844         57167    51950    PRETRIAL          Male   \n",
              "3      50848         57174    51956    PRETRIAL          Male   \n",
              "4      50848         57174    51956    PRETRIAL          Male   \n",
              "5      50848         57174    51956    PRETRIAL          Male   \n",
              "\n",
              "  Ethnic_Code_Text DateOfBirth            ScaleSet Language LegalStatus  \\\n",
              "0        Caucasian    12/05/92  Risk and Prescreen  English    Pretrial   \n",
              "1        Caucasian    12/05/92  Risk and Prescreen  English    Pretrial   \n",
              "2        Caucasian    12/05/92  Risk and Prescreen  English    Pretrial   \n",
              "3        Caucasian    09/16/84  Risk and Prescreen  English    Pretrial   \n",
              "4        Caucasian    09/16/84  Risk and Prescreen  English    Pretrial   \n",
              "5        Caucasian    09/16/84  Risk and Prescreen  English    Pretrial   \n",
              "\n",
              "  CustodyStatus MaritalStatus Screening_Date  RecSupervisionLevel  \\\n",
              "0   Jail Inmate        Single    1/1/13 0:00                    1   \n",
              "1   Jail Inmate        Single    1/1/13 0:00                    1   \n",
              "2   Jail Inmate        Single    1/1/13 0:00                    1   \n",
              "3   Jail Inmate       Married    1/1/13 0:00                    1   \n",
              "4   Jail Inmate       Married    1/1/13 0:00                    1   \n",
              "5   Jail Inmate       Married    1/1/13 0:00                    1   \n",
              "\n",
              "  RecSupervisionLevelText                DisplayText  RawScore ScoreText  \\\n",
              "0                     Low           Risk of Violence     -2.08       Low   \n",
              "1                     Low         Risk of Recidivism     -1.06       Low   \n",
              "2                     Low  Risk of Failure to Appear     15.00       Low   \n",
              "3                     Low           Risk of Violence     -2.84       Low   \n",
              "4                     Low         Risk of Recidivism     -1.50       Low   \n",
              "5                     Low  Risk of Failure to Appear     19.00       Low   \n",
              "\n",
              "  AssessmentType  \n",
              "0            New  \n",
              "1            New  \n",
              "2            New  \n",
              "3            New  \n",
              "4            New  \n",
              "5            New  "
            ]
          },
          "metadata": {
            "tags": []
          },
          "execution_count": 4
        }
      ]
    },
    {
      "cell_type": "markdown",
      "metadata": {
        "id": "8eU-KMKNJB2E",
        "colab_type": "text"
      },
      "source": [
        "### Having One Row per Arrest\n",
        "\n",
        "We still see that each person takes up three rows. These rows are identical with two exceptions.\n",
        "\n",
        "For every grouping of three rows, we have the following pattern for the first difference\n",
        "1.   Risk of Violence\n",
        "2.   Risk of Recidivism\n",
        "3.   Risk of Failure to Appear\n",
        "\n",
        "The second difference is the numerical score associated with each risk.\n",
        "\n",
        "Since those are the only differences, It would make since for these to be their own columns"
      ]
    },
    {
      "cell_type": "markdown",
      "metadata": {
        "id": "FWNKQsfuFl8l",
        "colab_type": "text"
      },
      "source": [
        "This cell creates paralell arrays of the scores for each person and stores them"
      ]
    },
    {
      "cell_type": "code",
      "metadata": {
        "id": "CQhH-e6jJb1t",
        "colab_type": "code",
        "colab": {}
      },
      "source": [
        "#creating arrays\n",
        "ViolenceScore = []\n",
        "RecidivismScore = []\n",
        "FailToAppearScore = []\n",
        "\n",
        "#filling up arrays with appropriate scores\n",
        "for tup in data.itertuples():\n",
        "  if tup[0] % 3 == 0:\n",
        "    ViolenceScore.append(tup.RawScore)\n",
        "  elif tup[0] % 3 == 1:\n",
        "    RecidivismScore.append(tup.RawScore)\n",
        "  else:\n",
        "    FailToAppearScore.append(tup.RawScore)"
      ],
      "execution_count": 0,
      "outputs": []
    },
    {
      "cell_type": "markdown",
      "metadata": {
        "id": "HQM90JvhKC-J",
        "colab_type": "text"
      },
      "source": [
        "Now the Raw Score and Display Text columns are not needed, so we drop them from the dataframe"
      ]
    },
    {
      "cell_type": "code",
      "metadata": {
        "id": "V22GJ2T1KNYq",
        "colab_type": "code",
        "outputId": "a9549fc1-2b57-4adb-d0c5-754924868e91",
        "colab": {
          "base_uri": "https://localhost:8080/",
          "height": 357
        }
      },
      "source": [
        "data = data.drop(['RawScore', 'DisplayText'], axis = 1)\n",
        "\n",
        "data.tail(6)"
      ],
      "execution_count": 0,
      "outputs": [
        {
          "output_type": "execute_result",
          "data": {
            "text/html": [
              "<div>\n",
              "<style scoped>\n",
              "    .dataframe tbody tr th:only-of-type {\n",
              "        vertical-align: middle;\n",
              "    }\n",
              "\n",
              "    .dataframe tbody tr th {\n",
              "        vertical-align: top;\n",
              "    }\n",
              "\n",
              "    .dataframe thead th {\n",
              "        text-align: right;\n",
              "    }\n",
              "</style>\n",
              "<table border=\"1\" class=\"dataframe\">\n",
              "  <thead>\n",
              "    <tr style=\"text-align: right;\">\n",
              "      <th></th>\n",
              "      <th>Person_ID</th>\n",
              "      <th>AssessmentID</th>\n",
              "      <th>Case_ID</th>\n",
              "      <th>Agency_Text</th>\n",
              "      <th>Sex_Code_Text</th>\n",
              "      <th>Ethnic_Code_Text</th>\n",
              "      <th>DateOfBirth</th>\n",
              "      <th>ScaleSet</th>\n",
              "      <th>Language</th>\n",
              "      <th>LegalStatus</th>\n",
              "      <th>CustodyStatus</th>\n",
              "      <th>MaritalStatus</th>\n",
              "      <th>Screening_Date</th>\n",
              "      <th>RecSupervisionLevel</th>\n",
              "      <th>RecSupervisionLevelText</th>\n",
              "      <th>ScoreText</th>\n",
              "      <th>AssessmentType</th>\n",
              "    </tr>\n",
              "  </thead>\n",
              "  <tbody>\n",
              "    <tr>\n",
              "      <th>60837</th>\n",
              "      <td>65667</td>\n",
              "      <td>79665</td>\n",
              "      <td>72038</td>\n",
              "      <td>Probation</td>\n",
              "      <td>Male</td>\n",
              "      <td>African-American</td>\n",
              "      <td>06/21/64</td>\n",
              "      <td>Risk and Prescreen</td>\n",
              "      <td>English</td>\n",
              "      <td>Pretrial</td>\n",
              "      <td>Jail Inmate</td>\n",
              "      <td>Single</td>\n",
              "      <td>12/31/14 0:00</td>\n",
              "      <td>3</td>\n",
              "      <td>Medium with Override Consideration</td>\n",
              "      <td>Low</td>\n",
              "      <td>New</td>\n",
              "    </tr>\n",
              "    <tr>\n",
              "      <th>60838</th>\n",
              "      <td>65667</td>\n",
              "      <td>79665</td>\n",
              "      <td>72038</td>\n",
              "      <td>Probation</td>\n",
              "      <td>Male</td>\n",
              "      <td>African-American</td>\n",
              "      <td>06/21/64</td>\n",
              "      <td>Risk and Prescreen</td>\n",
              "      <td>English</td>\n",
              "      <td>Pretrial</td>\n",
              "      <td>Jail Inmate</td>\n",
              "      <td>Single</td>\n",
              "      <td>12/31/14 0:00</td>\n",
              "      <td>3</td>\n",
              "      <td>Medium with Override Consideration</td>\n",
              "      <td>High</td>\n",
              "      <td>New</td>\n",
              "    </tr>\n",
              "    <tr>\n",
              "      <th>60839</th>\n",
              "      <td>65667</td>\n",
              "      <td>79665</td>\n",
              "      <td>72038</td>\n",
              "      <td>Probation</td>\n",
              "      <td>Male</td>\n",
              "      <td>African-American</td>\n",
              "      <td>06/21/64</td>\n",
              "      <td>Risk and Prescreen</td>\n",
              "      <td>English</td>\n",
              "      <td>Pretrial</td>\n",
              "      <td>Jail Inmate</td>\n",
              "      <td>Single</td>\n",
              "      <td>12/31/14 0:00</td>\n",
              "      <td>3</td>\n",
              "      <td>Medium with Override Consideration</td>\n",
              "      <td>High</td>\n",
              "      <td>New</td>\n",
              "    </tr>\n",
              "    <tr>\n",
              "      <th>60840</th>\n",
              "      <td>68603</td>\n",
              "      <td>79669</td>\n",
              "      <td>72042</td>\n",
              "      <td>PRETRIAL</td>\n",
              "      <td>Male</td>\n",
              "      <td>Caucasian</td>\n",
              "      <td>02/06/85</td>\n",
              "      <td>Risk and Prescreen</td>\n",
              "      <td>English</td>\n",
              "      <td>Pretrial</td>\n",
              "      <td>Jail Inmate</td>\n",
              "      <td>Single</td>\n",
              "      <td>12/31/14 0:00</td>\n",
              "      <td>1</td>\n",
              "      <td>Low</td>\n",
              "      <td>Low</td>\n",
              "      <td>New</td>\n",
              "    </tr>\n",
              "    <tr>\n",
              "      <th>60841</th>\n",
              "      <td>68603</td>\n",
              "      <td>79669</td>\n",
              "      <td>72042</td>\n",
              "      <td>PRETRIAL</td>\n",
              "      <td>Male</td>\n",
              "      <td>Caucasian</td>\n",
              "      <td>02/06/85</td>\n",
              "      <td>Risk and Prescreen</td>\n",
              "      <td>English</td>\n",
              "      <td>Pretrial</td>\n",
              "      <td>Jail Inmate</td>\n",
              "      <td>Single</td>\n",
              "      <td>12/31/14 0:00</td>\n",
              "      <td>1</td>\n",
              "      <td>Low</td>\n",
              "      <td>Medium</td>\n",
              "      <td>New</td>\n",
              "    </tr>\n",
              "    <tr>\n",
              "      <th>60842</th>\n",
              "      <td>68603</td>\n",
              "      <td>79669</td>\n",
              "      <td>72042</td>\n",
              "      <td>PRETRIAL</td>\n",
              "      <td>Male</td>\n",
              "      <td>Caucasian</td>\n",
              "      <td>02/06/85</td>\n",
              "      <td>Risk and Prescreen</td>\n",
              "      <td>English</td>\n",
              "      <td>Pretrial</td>\n",
              "      <td>Jail Inmate</td>\n",
              "      <td>Single</td>\n",
              "      <td>12/31/14 0:00</td>\n",
              "      <td>1</td>\n",
              "      <td>Low</td>\n",
              "      <td>Low</td>\n",
              "      <td>New</td>\n",
              "    </tr>\n",
              "  </tbody>\n",
              "</table>\n",
              "</div>"
            ],
            "text/plain": [
              "       Person_ID  AssessmentID  Case_ID Agency_Text Sex_Code_Text  \\\n",
              "60837      65667         79665    72038   Probation          Male   \n",
              "60838      65667         79665    72038   Probation          Male   \n",
              "60839      65667         79665    72038   Probation          Male   \n",
              "60840      68603         79669    72042    PRETRIAL          Male   \n",
              "60841      68603         79669    72042    PRETRIAL          Male   \n",
              "60842      68603         79669    72042    PRETRIAL          Male   \n",
              "\n",
              "       Ethnic_Code_Text DateOfBirth            ScaleSet Language LegalStatus  \\\n",
              "60837  African-American    06/21/64  Risk and Prescreen  English    Pretrial   \n",
              "60838  African-American    06/21/64  Risk and Prescreen  English    Pretrial   \n",
              "60839  African-American    06/21/64  Risk and Prescreen  English    Pretrial   \n",
              "60840         Caucasian    02/06/85  Risk and Prescreen  English    Pretrial   \n",
              "60841         Caucasian    02/06/85  Risk and Prescreen  English    Pretrial   \n",
              "60842         Caucasian    02/06/85  Risk and Prescreen  English    Pretrial   \n",
              "\n",
              "      CustodyStatus MaritalStatus Screening_Date  RecSupervisionLevel  \\\n",
              "60837   Jail Inmate        Single  12/31/14 0:00                    3   \n",
              "60838   Jail Inmate        Single  12/31/14 0:00                    3   \n",
              "60839   Jail Inmate        Single  12/31/14 0:00                    3   \n",
              "60840   Jail Inmate        Single  12/31/14 0:00                    1   \n",
              "60841   Jail Inmate        Single  12/31/14 0:00                    1   \n",
              "60842   Jail Inmate        Single  12/31/14 0:00                    1   \n",
              "\n",
              "                  RecSupervisionLevelText ScoreText AssessmentType  \n",
              "60837  Medium with Override Consideration       Low            New  \n",
              "60838  Medium with Override Consideration      High            New  \n",
              "60839  Medium with Override Consideration      High            New  \n",
              "60840                                 Low       Low            New  \n",
              "60841                                 Low    Medium            New  \n",
              "60842                                 Low       Low            New  "
            ]
          },
          "metadata": {
            "tags": []
          },
          "execution_count": 6
        }
      ]
    },
    {
      "cell_type": "markdown",
      "metadata": {
        "id": "tb8n9OWoKU1v",
        "colab_type": "text"
      },
      "source": [
        "However, we still have the excess rows left in the dataframe, so we remove them"
      ]
    },
    {
      "cell_type": "code",
      "metadata": {
        "id": "FVIvZ723KSDL",
        "colab_type": "code",
        "outputId": "27fd55cd-61ab-4f9c-df40-a056d088f505",
        "colab": {
          "base_uri": "https://localhost:8080/",
          "height": 309
        }
      },
      "source": [
        "#drop rows that will become duplicates\n",
        "drop_indeces = []\n",
        "\n",
        "size = len(data)\n",
        "#choose which rows to drop\n",
        "for i in range (size):\n",
        "  if (i % 3 != 1):#we did not equals 1 bc these have the description for Recidivism score\n",
        "    drop_indeces.append(i)\n",
        "  \n",
        "#drop rows\n",
        "data = data.drop(drop_indeces)\n",
        "\n",
        "data.head()"
      ],
      "execution_count": 0,
      "outputs": [
        {
          "output_type": "execute_result",
          "data": {
            "text/html": [
              "<div>\n",
              "<style scoped>\n",
              "    .dataframe tbody tr th:only-of-type {\n",
              "        vertical-align: middle;\n",
              "    }\n",
              "\n",
              "    .dataframe tbody tr th {\n",
              "        vertical-align: top;\n",
              "    }\n",
              "\n",
              "    .dataframe thead th {\n",
              "        text-align: right;\n",
              "    }\n",
              "</style>\n",
              "<table border=\"1\" class=\"dataframe\">\n",
              "  <thead>\n",
              "    <tr style=\"text-align: right;\">\n",
              "      <th></th>\n",
              "      <th>Person_ID</th>\n",
              "      <th>AssessmentID</th>\n",
              "      <th>Case_ID</th>\n",
              "      <th>Agency_Text</th>\n",
              "      <th>Sex_Code_Text</th>\n",
              "      <th>Ethnic_Code_Text</th>\n",
              "      <th>DateOfBirth</th>\n",
              "      <th>ScaleSet</th>\n",
              "      <th>Language</th>\n",
              "      <th>LegalStatus</th>\n",
              "      <th>CustodyStatus</th>\n",
              "      <th>MaritalStatus</th>\n",
              "      <th>Screening_Date</th>\n",
              "      <th>RecSupervisionLevel</th>\n",
              "      <th>RecSupervisionLevelText</th>\n",
              "      <th>ScoreText</th>\n",
              "      <th>AssessmentType</th>\n",
              "    </tr>\n",
              "  </thead>\n",
              "  <tbody>\n",
              "    <tr>\n",
              "      <th>1</th>\n",
              "      <td>50844</td>\n",
              "      <td>57167</td>\n",
              "      <td>51950</td>\n",
              "      <td>PRETRIAL</td>\n",
              "      <td>Male</td>\n",
              "      <td>Caucasian</td>\n",
              "      <td>12/05/92</td>\n",
              "      <td>Risk and Prescreen</td>\n",
              "      <td>English</td>\n",
              "      <td>Pretrial</td>\n",
              "      <td>Jail Inmate</td>\n",
              "      <td>Single</td>\n",
              "      <td>1/1/13 0:00</td>\n",
              "      <td>1</td>\n",
              "      <td>Low</td>\n",
              "      <td>Low</td>\n",
              "      <td>New</td>\n",
              "    </tr>\n",
              "    <tr>\n",
              "      <th>4</th>\n",
              "      <td>50848</td>\n",
              "      <td>57174</td>\n",
              "      <td>51956</td>\n",
              "      <td>PRETRIAL</td>\n",
              "      <td>Male</td>\n",
              "      <td>Caucasian</td>\n",
              "      <td>09/16/84</td>\n",
              "      <td>Risk and Prescreen</td>\n",
              "      <td>English</td>\n",
              "      <td>Pretrial</td>\n",
              "      <td>Jail Inmate</td>\n",
              "      <td>Married</td>\n",
              "      <td>1/1/13 0:00</td>\n",
              "      <td>1</td>\n",
              "      <td>Low</td>\n",
              "      <td>Low</td>\n",
              "      <td>New</td>\n",
              "    </tr>\n",
              "    <tr>\n",
              "      <th>7</th>\n",
              "      <td>50855</td>\n",
              "      <td>57181</td>\n",
              "      <td>51963</td>\n",
              "      <td>PRETRIAL</td>\n",
              "      <td>Male</td>\n",
              "      <td>African-American</td>\n",
              "      <td>08/25/94</td>\n",
              "      <td>Risk and Prescreen</td>\n",
              "      <td>English</td>\n",
              "      <td>Pretrial</td>\n",
              "      <td>Jail Inmate</td>\n",
              "      <td>Single</td>\n",
              "      <td>1/1/13 0:00</td>\n",
              "      <td>4</td>\n",
              "      <td>High</td>\n",
              "      <td>High</td>\n",
              "      <td>New</td>\n",
              "    </tr>\n",
              "    <tr>\n",
              "      <th>10</th>\n",
              "      <td>50850</td>\n",
              "      <td>57176</td>\n",
              "      <td>51958</td>\n",
              "      <td>PRETRIAL</td>\n",
              "      <td>Female</td>\n",
              "      <td>African-American</td>\n",
              "      <td>10/09/94</td>\n",
              "      <td>Risk and Prescreen</td>\n",
              "      <td>English</td>\n",
              "      <td>Pretrial</td>\n",
              "      <td>Jail Inmate</td>\n",
              "      <td>Significant Other</td>\n",
              "      <td>1/1/13 0:00</td>\n",
              "      <td>2</td>\n",
              "      <td>Medium</td>\n",
              "      <td>Medium</td>\n",
              "      <td>New</td>\n",
              "    </tr>\n",
              "    <tr>\n",
              "      <th>13</th>\n",
              "      <td>50839</td>\n",
              "      <td>57162</td>\n",
              "      <td>51945</td>\n",
              "      <td>PRETRIAL</td>\n",
              "      <td>Female</td>\n",
              "      <td>African-American</td>\n",
              "      <td>06/29/85</td>\n",
              "      <td>Risk and Prescreen</td>\n",
              "      <td>English</td>\n",
              "      <td>Pretrial</td>\n",
              "      <td>Jail Inmate</td>\n",
              "      <td>Single</td>\n",
              "      <td>1/1/13 0:00</td>\n",
              "      <td>1</td>\n",
              "      <td>Low</td>\n",
              "      <td>Low</td>\n",
              "      <td>New</td>\n",
              "    </tr>\n",
              "  </tbody>\n",
              "</table>\n",
              "</div>"
            ],
            "text/plain": [
              "    Person_ID  AssessmentID  Case_ID Agency_Text Sex_Code_Text  \\\n",
              "1       50844         57167    51950    PRETRIAL          Male   \n",
              "4       50848         57174    51956    PRETRIAL          Male   \n",
              "7       50855         57181    51963    PRETRIAL          Male   \n",
              "10      50850         57176    51958    PRETRIAL        Female   \n",
              "13      50839         57162    51945    PRETRIAL        Female   \n",
              "\n",
              "    Ethnic_Code_Text DateOfBirth            ScaleSet Language LegalStatus  \\\n",
              "1          Caucasian    12/05/92  Risk and Prescreen  English    Pretrial   \n",
              "4          Caucasian    09/16/84  Risk and Prescreen  English    Pretrial   \n",
              "7   African-American    08/25/94  Risk and Prescreen  English    Pretrial   \n",
              "10  African-American    10/09/94  Risk and Prescreen  English    Pretrial   \n",
              "13  African-American    06/29/85  Risk and Prescreen  English    Pretrial   \n",
              "\n",
              "   CustodyStatus      MaritalStatus Screening_Date  RecSupervisionLevel  \\\n",
              "1    Jail Inmate             Single    1/1/13 0:00                    1   \n",
              "4    Jail Inmate            Married    1/1/13 0:00                    1   \n",
              "7    Jail Inmate             Single    1/1/13 0:00                    4   \n",
              "10   Jail Inmate  Significant Other    1/1/13 0:00                    2   \n",
              "13   Jail Inmate             Single    1/1/13 0:00                    1   \n",
              "\n",
              "   RecSupervisionLevelText ScoreText AssessmentType  \n",
              "1                      Low       Low            New  \n",
              "4                      Low       Low            New  \n",
              "7                     High      High            New  \n",
              "10                  Medium    Medium            New  \n",
              "13                     Low       Low            New  "
            ]
          },
          "metadata": {
            "tags": []
          },
          "execution_count": 7
        }
      ]
    },
    {
      "cell_type": "markdown",
      "metadata": {
        "id": "0Spt2RGELAxn",
        "colab_type": "text"
      },
      "source": [
        "Now we have one row per arrest. So now we add the scores to the dataframe"
      ]
    },
    {
      "cell_type": "code",
      "metadata": {
        "id": "_vaaBXDELQoy",
        "colab_type": "code",
        "outputId": "8acdedcf-f3a8-4dbc-a522-26bea1762070",
        "colab": {
          "base_uri": "https://localhost:8080/",
          "height": 309
        }
      },
      "source": [
        "data['ViolenceScore'] = ViolenceScore\n",
        "data['RecidivismScore'] = RecidivismScore\n",
        "data['FailToAppearScore'] = FailToAppearScore\n",
        "\n",
        "data.head()"
      ],
      "execution_count": 0,
      "outputs": [
        {
          "output_type": "execute_result",
          "data": {
            "text/html": [
              "<div>\n",
              "<style scoped>\n",
              "    .dataframe tbody tr th:only-of-type {\n",
              "        vertical-align: middle;\n",
              "    }\n",
              "\n",
              "    .dataframe tbody tr th {\n",
              "        vertical-align: top;\n",
              "    }\n",
              "\n",
              "    .dataframe thead th {\n",
              "        text-align: right;\n",
              "    }\n",
              "</style>\n",
              "<table border=\"1\" class=\"dataframe\">\n",
              "  <thead>\n",
              "    <tr style=\"text-align: right;\">\n",
              "      <th></th>\n",
              "      <th>Person_ID</th>\n",
              "      <th>AssessmentID</th>\n",
              "      <th>Case_ID</th>\n",
              "      <th>Agency_Text</th>\n",
              "      <th>Sex_Code_Text</th>\n",
              "      <th>Ethnic_Code_Text</th>\n",
              "      <th>DateOfBirth</th>\n",
              "      <th>ScaleSet</th>\n",
              "      <th>Language</th>\n",
              "      <th>LegalStatus</th>\n",
              "      <th>CustodyStatus</th>\n",
              "      <th>MaritalStatus</th>\n",
              "      <th>Screening_Date</th>\n",
              "      <th>RecSupervisionLevel</th>\n",
              "      <th>RecSupervisionLevelText</th>\n",
              "      <th>ScoreText</th>\n",
              "      <th>AssessmentType</th>\n",
              "      <th>ViolenceScore</th>\n",
              "      <th>RecidivismScore</th>\n",
              "      <th>FailToAppearScore</th>\n",
              "    </tr>\n",
              "  </thead>\n",
              "  <tbody>\n",
              "    <tr>\n",
              "      <th>1</th>\n",
              "      <td>50844</td>\n",
              "      <td>57167</td>\n",
              "      <td>51950</td>\n",
              "      <td>PRETRIAL</td>\n",
              "      <td>Male</td>\n",
              "      <td>Caucasian</td>\n",
              "      <td>12/05/92</td>\n",
              "      <td>Risk and Prescreen</td>\n",
              "      <td>English</td>\n",
              "      <td>Pretrial</td>\n",
              "      <td>Jail Inmate</td>\n",
              "      <td>Single</td>\n",
              "      <td>1/1/13 0:00</td>\n",
              "      <td>1</td>\n",
              "      <td>Low</td>\n",
              "      <td>Low</td>\n",
              "      <td>New</td>\n",
              "      <td>-2.08</td>\n",
              "      <td>-1.06</td>\n",
              "      <td>15.0</td>\n",
              "    </tr>\n",
              "    <tr>\n",
              "      <th>4</th>\n",
              "      <td>50848</td>\n",
              "      <td>57174</td>\n",
              "      <td>51956</td>\n",
              "      <td>PRETRIAL</td>\n",
              "      <td>Male</td>\n",
              "      <td>Caucasian</td>\n",
              "      <td>09/16/84</td>\n",
              "      <td>Risk and Prescreen</td>\n",
              "      <td>English</td>\n",
              "      <td>Pretrial</td>\n",
              "      <td>Jail Inmate</td>\n",
              "      <td>Married</td>\n",
              "      <td>1/1/13 0:00</td>\n",
              "      <td>1</td>\n",
              "      <td>Low</td>\n",
              "      <td>Low</td>\n",
              "      <td>New</td>\n",
              "      <td>-2.84</td>\n",
              "      <td>-1.50</td>\n",
              "      <td>19.0</td>\n",
              "    </tr>\n",
              "    <tr>\n",
              "      <th>7</th>\n",
              "      <td>50855</td>\n",
              "      <td>57181</td>\n",
              "      <td>51963</td>\n",
              "      <td>PRETRIAL</td>\n",
              "      <td>Male</td>\n",
              "      <td>African-American</td>\n",
              "      <td>08/25/94</td>\n",
              "      <td>Risk and Prescreen</td>\n",
              "      <td>English</td>\n",
              "      <td>Pretrial</td>\n",
              "      <td>Jail Inmate</td>\n",
              "      <td>Single</td>\n",
              "      <td>1/1/13 0:00</td>\n",
              "      <td>4</td>\n",
              "      <td>High</td>\n",
              "      <td>High</td>\n",
              "      <td>New</td>\n",
              "      <td>-1.20</td>\n",
              "      <td>0.18</td>\n",
              "      <td>13.0</td>\n",
              "    </tr>\n",
              "    <tr>\n",
              "      <th>10</th>\n",
              "      <td>50850</td>\n",
              "      <td>57176</td>\n",
              "      <td>51958</td>\n",
              "      <td>PRETRIAL</td>\n",
              "      <td>Female</td>\n",
              "      <td>African-American</td>\n",
              "      <td>10/09/94</td>\n",
              "      <td>Risk and Prescreen</td>\n",
              "      <td>English</td>\n",
              "      <td>Pretrial</td>\n",
              "      <td>Jail Inmate</td>\n",
              "      <td>Significant Other</td>\n",
              "      <td>1/1/13 0:00</td>\n",
              "      <td>2</td>\n",
              "      <td>Medium</td>\n",
              "      <td>Medium</td>\n",
              "      <td>New</td>\n",
              "      <td>-1.29</td>\n",
              "      <td>-0.53</td>\n",
              "      <td>11.0</td>\n",
              "    </tr>\n",
              "    <tr>\n",
              "      <th>13</th>\n",
              "      <td>50839</td>\n",
              "      <td>57162</td>\n",
              "      <td>51945</td>\n",
              "      <td>PRETRIAL</td>\n",
              "      <td>Female</td>\n",
              "      <td>African-American</td>\n",
              "      <td>06/29/85</td>\n",
              "      <td>Risk and Prescreen</td>\n",
              "      <td>English</td>\n",
              "      <td>Pretrial</td>\n",
              "      <td>Jail Inmate</td>\n",
              "      <td>Single</td>\n",
              "      <td>1/1/13 0:00</td>\n",
              "      <td>1</td>\n",
              "      <td>Low</td>\n",
              "      <td>Low</td>\n",
              "      <td>New</td>\n",
              "      <td>-2.90</td>\n",
              "      <td>-1.55</td>\n",
              "      <td>16.0</td>\n",
              "    </tr>\n",
              "  </tbody>\n",
              "</table>\n",
              "</div>"
            ],
            "text/plain": [
              "    Person_ID  AssessmentID  Case_ID Agency_Text Sex_Code_Text  \\\n",
              "1       50844         57167    51950    PRETRIAL          Male   \n",
              "4       50848         57174    51956    PRETRIAL          Male   \n",
              "7       50855         57181    51963    PRETRIAL          Male   \n",
              "10      50850         57176    51958    PRETRIAL        Female   \n",
              "13      50839         57162    51945    PRETRIAL        Female   \n",
              "\n",
              "    Ethnic_Code_Text DateOfBirth            ScaleSet Language LegalStatus  \\\n",
              "1          Caucasian    12/05/92  Risk and Prescreen  English    Pretrial   \n",
              "4          Caucasian    09/16/84  Risk and Prescreen  English    Pretrial   \n",
              "7   African-American    08/25/94  Risk and Prescreen  English    Pretrial   \n",
              "10  African-American    10/09/94  Risk and Prescreen  English    Pretrial   \n",
              "13  African-American    06/29/85  Risk and Prescreen  English    Pretrial   \n",
              "\n",
              "   CustodyStatus      MaritalStatus Screening_Date  RecSupervisionLevel  \\\n",
              "1    Jail Inmate             Single    1/1/13 0:00                    1   \n",
              "4    Jail Inmate            Married    1/1/13 0:00                    1   \n",
              "7    Jail Inmate             Single    1/1/13 0:00                    4   \n",
              "10   Jail Inmate  Significant Other    1/1/13 0:00                    2   \n",
              "13   Jail Inmate             Single    1/1/13 0:00                    1   \n",
              "\n",
              "   RecSupervisionLevelText ScoreText AssessmentType  ViolenceScore  \\\n",
              "1                      Low       Low            New          -2.08   \n",
              "4                      Low       Low            New          -2.84   \n",
              "7                     High      High            New          -1.20   \n",
              "10                  Medium    Medium            New          -1.29   \n",
              "13                     Low       Low            New          -2.90   \n",
              "\n",
              "    RecidivismScore  FailToAppearScore  \n",
              "1             -1.06               15.0  \n",
              "4             -1.50               19.0  \n",
              "7              0.18               13.0  \n",
              "10            -0.53               11.0  \n",
              "13            -1.55               16.0  "
            ]
          },
          "metadata": {
            "tags": []
          },
          "execution_count": 8
        }
      ]
    },
    {
      "cell_type": "markdown",
      "metadata": {
        "id": "UQhpy3gHLVYb",
        "colab_type": "text"
      },
      "source": [
        "The indeces in the dataframe are all multiples of 3. So we reset the indeces."
      ]
    },
    {
      "cell_type": "code",
      "metadata": {
        "id": "CO1HCUqvHL1c",
        "colab_type": "code",
        "outputId": "a41fc5ad-d4fc-4bfa-8582-c2f5175ca8d2",
        "colab": {
          "base_uri": "https://localhost:8080/",
          "height": 309
        }
      },
      "source": [
        "#reset index\n",
        "data = data.reset_index(drop = True)\n",
        "\n",
        "data.head()"
      ],
      "execution_count": 0,
      "outputs": [
        {
          "output_type": "execute_result",
          "data": {
            "text/html": [
              "<div>\n",
              "<style scoped>\n",
              "    .dataframe tbody tr th:only-of-type {\n",
              "        vertical-align: middle;\n",
              "    }\n",
              "\n",
              "    .dataframe tbody tr th {\n",
              "        vertical-align: top;\n",
              "    }\n",
              "\n",
              "    .dataframe thead th {\n",
              "        text-align: right;\n",
              "    }\n",
              "</style>\n",
              "<table border=\"1\" class=\"dataframe\">\n",
              "  <thead>\n",
              "    <tr style=\"text-align: right;\">\n",
              "      <th></th>\n",
              "      <th>Person_ID</th>\n",
              "      <th>AssessmentID</th>\n",
              "      <th>Case_ID</th>\n",
              "      <th>Agency_Text</th>\n",
              "      <th>Sex_Code_Text</th>\n",
              "      <th>Ethnic_Code_Text</th>\n",
              "      <th>DateOfBirth</th>\n",
              "      <th>ScaleSet</th>\n",
              "      <th>Language</th>\n",
              "      <th>LegalStatus</th>\n",
              "      <th>CustodyStatus</th>\n",
              "      <th>MaritalStatus</th>\n",
              "      <th>Screening_Date</th>\n",
              "      <th>RecSupervisionLevel</th>\n",
              "      <th>RecSupervisionLevelText</th>\n",
              "      <th>ScoreText</th>\n",
              "      <th>AssessmentType</th>\n",
              "      <th>ViolenceScore</th>\n",
              "      <th>RecidivismScore</th>\n",
              "      <th>FailToAppearScore</th>\n",
              "    </tr>\n",
              "  </thead>\n",
              "  <tbody>\n",
              "    <tr>\n",
              "      <th>0</th>\n",
              "      <td>50844</td>\n",
              "      <td>57167</td>\n",
              "      <td>51950</td>\n",
              "      <td>PRETRIAL</td>\n",
              "      <td>Male</td>\n",
              "      <td>Caucasian</td>\n",
              "      <td>12/05/92</td>\n",
              "      <td>Risk and Prescreen</td>\n",
              "      <td>English</td>\n",
              "      <td>Pretrial</td>\n",
              "      <td>Jail Inmate</td>\n",
              "      <td>Single</td>\n",
              "      <td>1/1/13 0:00</td>\n",
              "      <td>1</td>\n",
              "      <td>Low</td>\n",
              "      <td>Low</td>\n",
              "      <td>New</td>\n",
              "      <td>-2.08</td>\n",
              "      <td>-1.06</td>\n",
              "      <td>15.0</td>\n",
              "    </tr>\n",
              "    <tr>\n",
              "      <th>1</th>\n",
              "      <td>50848</td>\n",
              "      <td>57174</td>\n",
              "      <td>51956</td>\n",
              "      <td>PRETRIAL</td>\n",
              "      <td>Male</td>\n",
              "      <td>Caucasian</td>\n",
              "      <td>09/16/84</td>\n",
              "      <td>Risk and Prescreen</td>\n",
              "      <td>English</td>\n",
              "      <td>Pretrial</td>\n",
              "      <td>Jail Inmate</td>\n",
              "      <td>Married</td>\n",
              "      <td>1/1/13 0:00</td>\n",
              "      <td>1</td>\n",
              "      <td>Low</td>\n",
              "      <td>Low</td>\n",
              "      <td>New</td>\n",
              "      <td>-2.84</td>\n",
              "      <td>-1.50</td>\n",
              "      <td>19.0</td>\n",
              "    </tr>\n",
              "    <tr>\n",
              "      <th>2</th>\n",
              "      <td>50855</td>\n",
              "      <td>57181</td>\n",
              "      <td>51963</td>\n",
              "      <td>PRETRIAL</td>\n",
              "      <td>Male</td>\n",
              "      <td>African-American</td>\n",
              "      <td>08/25/94</td>\n",
              "      <td>Risk and Prescreen</td>\n",
              "      <td>English</td>\n",
              "      <td>Pretrial</td>\n",
              "      <td>Jail Inmate</td>\n",
              "      <td>Single</td>\n",
              "      <td>1/1/13 0:00</td>\n",
              "      <td>4</td>\n",
              "      <td>High</td>\n",
              "      <td>High</td>\n",
              "      <td>New</td>\n",
              "      <td>-1.20</td>\n",
              "      <td>0.18</td>\n",
              "      <td>13.0</td>\n",
              "    </tr>\n",
              "    <tr>\n",
              "      <th>3</th>\n",
              "      <td>50850</td>\n",
              "      <td>57176</td>\n",
              "      <td>51958</td>\n",
              "      <td>PRETRIAL</td>\n",
              "      <td>Female</td>\n",
              "      <td>African-American</td>\n",
              "      <td>10/09/94</td>\n",
              "      <td>Risk and Prescreen</td>\n",
              "      <td>English</td>\n",
              "      <td>Pretrial</td>\n",
              "      <td>Jail Inmate</td>\n",
              "      <td>Significant Other</td>\n",
              "      <td>1/1/13 0:00</td>\n",
              "      <td>2</td>\n",
              "      <td>Medium</td>\n",
              "      <td>Medium</td>\n",
              "      <td>New</td>\n",
              "      <td>-1.29</td>\n",
              "      <td>-0.53</td>\n",
              "      <td>11.0</td>\n",
              "    </tr>\n",
              "    <tr>\n",
              "      <th>4</th>\n",
              "      <td>50839</td>\n",
              "      <td>57162</td>\n",
              "      <td>51945</td>\n",
              "      <td>PRETRIAL</td>\n",
              "      <td>Female</td>\n",
              "      <td>African-American</td>\n",
              "      <td>06/29/85</td>\n",
              "      <td>Risk and Prescreen</td>\n",
              "      <td>English</td>\n",
              "      <td>Pretrial</td>\n",
              "      <td>Jail Inmate</td>\n",
              "      <td>Single</td>\n",
              "      <td>1/1/13 0:00</td>\n",
              "      <td>1</td>\n",
              "      <td>Low</td>\n",
              "      <td>Low</td>\n",
              "      <td>New</td>\n",
              "      <td>-2.90</td>\n",
              "      <td>-1.55</td>\n",
              "      <td>16.0</td>\n",
              "    </tr>\n",
              "  </tbody>\n",
              "</table>\n",
              "</div>"
            ],
            "text/plain": [
              "   Person_ID  AssessmentID  Case_ID Agency_Text Sex_Code_Text  \\\n",
              "0      50844         57167    51950    PRETRIAL          Male   \n",
              "1      50848         57174    51956    PRETRIAL          Male   \n",
              "2      50855         57181    51963    PRETRIAL          Male   \n",
              "3      50850         57176    51958    PRETRIAL        Female   \n",
              "4      50839         57162    51945    PRETRIAL        Female   \n",
              "\n",
              "   Ethnic_Code_Text DateOfBirth            ScaleSet Language LegalStatus  \\\n",
              "0         Caucasian    12/05/92  Risk and Prescreen  English    Pretrial   \n",
              "1         Caucasian    09/16/84  Risk and Prescreen  English    Pretrial   \n",
              "2  African-American    08/25/94  Risk and Prescreen  English    Pretrial   \n",
              "3  African-American    10/09/94  Risk and Prescreen  English    Pretrial   \n",
              "4  African-American    06/29/85  Risk and Prescreen  English    Pretrial   \n",
              "\n",
              "  CustodyStatus      MaritalStatus Screening_Date  RecSupervisionLevel  \\\n",
              "0   Jail Inmate             Single    1/1/13 0:00                    1   \n",
              "1   Jail Inmate            Married    1/1/13 0:00                    1   \n",
              "2   Jail Inmate             Single    1/1/13 0:00                    4   \n",
              "3   Jail Inmate  Significant Other    1/1/13 0:00                    2   \n",
              "4   Jail Inmate             Single    1/1/13 0:00                    1   \n",
              "\n",
              "  RecSupervisionLevelText ScoreText AssessmentType  ViolenceScore  \\\n",
              "0                     Low       Low            New          -2.08   \n",
              "1                     Low       Low            New          -2.84   \n",
              "2                    High      High            New          -1.20   \n",
              "3                  Medium    Medium            New          -1.29   \n",
              "4                     Low       Low            New          -2.90   \n",
              "\n",
              "   RecidivismScore  FailToAppearScore  \n",
              "0            -1.06               15.0  \n",
              "1            -1.50               19.0  \n",
              "2             0.18               13.0  \n",
              "3            -0.53               11.0  \n",
              "4            -1.55               16.0  "
            ]
          },
          "metadata": {
            "tags": []
          },
          "execution_count": 9
        }
      ]
    },
    {
      "cell_type": "markdown",
      "metadata": {
        "id": "VL_zWHj0MVZ9",
        "colab_type": "text"
      },
      "source": [
        "### Adding Age"
      ]
    },
    {
      "cell_type": "markdown",
      "metadata": {
        "id": "eRNtlkBeHbzo",
        "colab_type": "text"
      },
      "source": [
        "Each person has a Date of Birth and a Screening Date. Since this can be used to calculate age, we decided to make a column"
      ]
    },
    {
      "cell_type": "markdown",
      "metadata": {
        "id": "2MNcE95UMtC1",
        "colab_type": "text"
      },
      "source": [
        "Create array to store ages and calculate them"
      ]
    },
    {
      "cell_type": "code",
      "metadata": {
        "id": "I94p7qr8Mkrx",
        "colab_type": "code",
        "colab": {}
      },
      "source": [
        "#create array\n",
        "Age = []\n",
        "\n",
        "#calculate ages\n",
        "for tup in data.itertuples():\n",
        "  arrest_date = tup.Screening_Date.split()[0] #get string for date\n",
        "  arrest_date = arrest_date.split('/') #separate into array\n",
        "  birth_date = tup.DateOfBirth.split('/') #separate into array\n",
        "  arrest_age = 100 + int(arrest_date[2]) - int(birth_date[2]) #calculate age based on year\n",
        "  if (int(birth_date[0]) < int(arrest_date[0])): #correct if birth month has not been reached\n",
        "    arrest_age -= 1\n",
        "  elif (int(birth_date[1]) < int(arrest_date[1])): #correct if birthday has not been reached\n",
        "    arrest_age -= 1\n",
        "  Age.append(arrest_age)"
      ],
      "execution_count": 0,
      "outputs": []
    },
    {
      "cell_type": "markdown",
      "metadata": {
        "id": "LuDr2M-UM7uX",
        "colab_type": "text"
      },
      "source": [
        "Add Age to the dataframe"
      ]
    },
    {
      "cell_type": "code",
      "metadata": {
        "id": "C85p6PDEcubk",
        "colab_type": "code",
        "outputId": "c04b2c19-7abb-4801-86d2-968ba2e625d4",
        "colab": {
          "base_uri": "https://localhost:8080/",
          "height": 309
        }
      },
      "source": [
        "#add age column\n",
        "data['Age'] = Age\n",
        "\n",
        "data = data.drop(['DateOfBirth', 'Screening_Date'], axis = 1)\n",
        "\n",
        "data.head()"
      ],
      "execution_count": 0,
      "outputs": [
        {
          "output_type": "execute_result",
          "data": {
            "text/html": [
              "<div>\n",
              "<style scoped>\n",
              "    .dataframe tbody tr th:only-of-type {\n",
              "        vertical-align: middle;\n",
              "    }\n",
              "\n",
              "    .dataframe tbody tr th {\n",
              "        vertical-align: top;\n",
              "    }\n",
              "\n",
              "    .dataframe thead th {\n",
              "        text-align: right;\n",
              "    }\n",
              "</style>\n",
              "<table border=\"1\" class=\"dataframe\">\n",
              "  <thead>\n",
              "    <tr style=\"text-align: right;\">\n",
              "      <th></th>\n",
              "      <th>Person_ID</th>\n",
              "      <th>AssessmentID</th>\n",
              "      <th>Case_ID</th>\n",
              "      <th>Agency_Text</th>\n",
              "      <th>Sex_Code_Text</th>\n",
              "      <th>Ethnic_Code_Text</th>\n",
              "      <th>ScaleSet</th>\n",
              "      <th>Language</th>\n",
              "      <th>LegalStatus</th>\n",
              "      <th>CustodyStatus</th>\n",
              "      <th>MaritalStatus</th>\n",
              "      <th>RecSupervisionLevel</th>\n",
              "      <th>RecSupervisionLevelText</th>\n",
              "      <th>ScoreText</th>\n",
              "      <th>AssessmentType</th>\n",
              "      <th>ViolenceScore</th>\n",
              "      <th>RecidivismScore</th>\n",
              "      <th>FailToAppearScore</th>\n",
              "      <th>Age</th>\n",
              "    </tr>\n",
              "  </thead>\n",
              "  <tbody>\n",
              "    <tr>\n",
              "      <th>0</th>\n",
              "      <td>50844</td>\n",
              "      <td>57167</td>\n",
              "      <td>51950</td>\n",
              "      <td>PRETRIAL</td>\n",
              "      <td>Male</td>\n",
              "      <td>Caucasian</td>\n",
              "      <td>Risk and Prescreen</td>\n",
              "      <td>English</td>\n",
              "      <td>Pretrial</td>\n",
              "      <td>Jail Inmate</td>\n",
              "      <td>Single</td>\n",
              "      <td>1</td>\n",
              "      <td>Low</td>\n",
              "      <td>Low</td>\n",
              "      <td>New</td>\n",
              "      <td>-2.08</td>\n",
              "      <td>-1.06</td>\n",
              "      <td>15.0</td>\n",
              "      <td>21</td>\n",
              "    </tr>\n",
              "    <tr>\n",
              "      <th>1</th>\n",
              "      <td>50848</td>\n",
              "      <td>57174</td>\n",
              "      <td>51956</td>\n",
              "      <td>PRETRIAL</td>\n",
              "      <td>Male</td>\n",
              "      <td>Caucasian</td>\n",
              "      <td>Risk and Prescreen</td>\n",
              "      <td>English</td>\n",
              "      <td>Pretrial</td>\n",
              "      <td>Jail Inmate</td>\n",
              "      <td>Married</td>\n",
              "      <td>1</td>\n",
              "      <td>Low</td>\n",
              "      <td>Low</td>\n",
              "      <td>New</td>\n",
              "      <td>-2.84</td>\n",
              "      <td>-1.50</td>\n",
              "      <td>19.0</td>\n",
              "      <td>29</td>\n",
              "    </tr>\n",
              "    <tr>\n",
              "      <th>2</th>\n",
              "      <td>50855</td>\n",
              "      <td>57181</td>\n",
              "      <td>51963</td>\n",
              "      <td>PRETRIAL</td>\n",
              "      <td>Male</td>\n",
              "      <td>African-American</td>\n",
              "      <td>Risk and Prescreen</td>\n",
              "      <td>English</td>\n",
              "      <td>Pretrial</td>\n",
              "      <td>Jail Inmate</td>\n",
              "      <td>Single</td>\n",
              "      <td>4</td>\n",
              "      <td>High</td>\n",
              "      <td>High</td>\n",
              "      <td>New</td>\n",
              "      <td>-1.20</td>\n",
              "      <td>0.18</td>\n",
              "      <td>13.0</td>\n",
              "      <td>19</td>\n",
              "    </tr>\n",
              "    <tr>\n",
              "      <th>3</th>\n",
              "      <td>50850</td>\n",
              "      <td>57176</td>\n",
              "      <td>51958</td>\n",
              "      <td>PRETRIAL</td>\n",
              "      <td>Female</td>\n",
              "      <td>African-American</td>\n",
              "      <td>Risk and Prescreen</td>\n",
              "      <td>English</td>\n",
              "      <td>Pretrial</td>\n",
              "      <td>Jail Inmate</td>\n",
              "      <td>Significant Other</td>\n",
              "      <td>2</td>\n",
              "      <td>Medium</td>\n",
              "      <td>Medium</td>\n",
              "      <td>New</td>\n",
              "      <td>-1.29</td>\n",
              "      <td>-0.53</td>\n",
              "      <td>11.0</td>\n",
              "      <td>19</td>\n",
              "    </tr>\n",
              "    <tr>\n",
              "      <th>4</th>\n",
              "      <td>50839</td>\n",
              "      <td>57162</td>\n",
              "      <td>51945</td>\n",
              "      <td>PRETRIAL</td>\n",
              "      <td>Female</td>\n",
              "      <td>African-American</td>\n",
              "      <td>Risk and Prescreen</td>\n",
              "      <td>English</td>\n",
              "      <td>Pretrial</td>\n",
              "      <td>Jail Inmate</td>\n",
              "      <td>Single</td>\n",
              "      <td>1</td>\n",
              "      <td>Low</td>\n",
              "      <td>Low</td>\n",
              "      <td>New</td>\n",
              "      <td>-2.90</td>\n",
              "      <td>-1.55</td>\n",
              "      <td>16.0</td>\n",
              "      <td>28</td>\n",
              "    </tr>\n",
              "  </tbody>\n",
              "</table>\n",
              "</div>"
            ],
            "text/plain": [
              "   Person_ID  AssessmentID  Case_ID Agency_Text Sex_Code_Text  \\\n",
              "0      50844         57167    51950    PRETRIAL          Male   \n",
              "1      50848         57174    51956    PRETRIAL          Male   \n",
              "2      50855         57181    51963    PRETRIAL          Male   \n",
              "3      50850         57176    51958    PRETRIAL        Female   \n",
              "4      50839         57162    51945    PRETRIAL        Female   \n",
              "\n",
              "   Ethnic_Code_Text            ScaleSet Language LegalStatus CustodyStatus  \\\n",
              "0         Caucasian  Risk and Prescreen  English    Pretrial   Jail Inmate   \n",
              "1         Caucasian  Risk and Prescreen  English    Pretrial   Jail Inmate   \n",
              "2  African-American  Risk and Prescreen  English    Pretrial   Jail Inmate   \n",
              "3  African-American  Risk and Prescreen  English    Pretrial   Jail Inmate   \n",
              "4  African-American  Risk and Prescreen  English    Pretrial   Jail Inmate   \n",
              "\n",
              "       MaritalStatus  RecSupervisionLevel RecSupervisionLevelText ScoreText  \\\n",
              "0             Single                    1                     Low       Low   \n",
              "1            Married                    1                     Low       Low   \n",
              "2             Single                    4                    High      High   \n",
              "3  Significant Other                    2                  Medium    Medium   \n",
              "4             Single                    1                     Low       Low   \n",
              "\n",
              "  AssessmentType  ViolenceScore  RecidivismScore  FailToAppearScore  Age  \n",
              "0            New          -2.08            -1.06               15.0   21  \n",
              "1            New          -2.84            -1.50               19.0   29  \n",
              "2            New          -1.20             0.18               13.0   19  \n",
              "3            New          -1.29            -0.53               11.0   19  \n",
              "4            New          -2.90            -1.55               16.0   28  "
            ]
          },
          "metadata": {
            "tags": []
          },
          "execution_count": 11
        }
      ]
    },
    {
      "cell_type": "markdown",
      "metadata": {
        "id": "pdzxlOyZnNLK",
        "colab_type": "text"
      },
      "source": [
        "### Fixing Ethnic Code Text\n",
        "\n",
        "For Ethnic Code, we noticed there is an \"African-American\" category and an \"African-Am\" category, which is probably just a difference in inputting among different jails. Therefore, we changed any entries labeled as \"African-Am\" to \"African-American\" so the label would be consistent. There is also an \"Asian\" category, as well as an \"Oriental\" category and we did the same to group them together. So we were able to delete two Ethnic Code categories (African-Am and Oriental) without deleting the entries. \n",
        "\n",
        "\n"
      ]
    },
    {
      "cell_type": "code",
      "metadata": {
        "id": "xB_gSdCrnUCu",
        "colab_type": "code",
        "outputId": "071ee56f-db8d-4a61-bcff-b14290a6bfd1",
        "colab": {
          "base_uri": "https://localhost:8080/",
          "height": 207
        }
      },
      "source": [
        "Ethnic_Code_Text = data.Ethnic_Code_Text.values\n",
        "\n",
        "data.Ethnic_Code_Text.value_counts()"
      ],
      "execution_count": 0,
      "outputs": [
        {
          "output_type": "execute_result",
          "data": {
            "text/plain": [
              "African-American    9006\n",
              "Caucasian           7261\n",
              "Hispanic            2914\n",
              "Other                864\n",
              "Asian                108\n",
              "Native American       73\n",
              "Arabic                25\n",
              "African-Am            17\n",
              "Oriental              13\n",
              "Name: Ethnic_Code_Text, dtype: int64"
            ]
          },
          "metadata": {
            "tags": []
          },
          "execution_count": 12
        }
      ]
    },
    {
      "cell_type": "code",
      "metadata": {
        "id": "nEi0CfAont3P",
        "colab_type": "code",
        "outputId": "5de7ea9a-9fa6-4f35-a22f-bef5ce1dfc23",
        "colab": {
          "base_uri": "https://localhost:8080/",
          "height": 173
        }
      },
      "source": [
        "for i in range(len(Ethnic_Code_Text)):\n",
        "  if (Ethnic_Code_Text[i] == 'African-Am'):\n",
        "    Ethnic_Code_Text[i] = 'African-American'\n",
        "  elif (Ethnic_Code_Text[i] == 'Oriental'):\n",
        "    Ethnic_Code_Text[i] = 'Asian'\n",
        "    \n",
        "data.Ethnic_Code_Text.value_counts()\n",
        "    "
      ],
      "execution_count": 0,
      "outputs": [
        {
          "output_type": "execute_result",
          "data": {
            "text/plain": [
              "African-American    9023\n",
              "Caucasian           7261\n",
              "Hispanic            2914\n",
              "Other                864\n",
              "Asian                121\n",
              "Native American       73\n",
              "Arabic                25\n",
              "Name: Ethnic_Code_Text, dtype: int64"
            ]
          },
          "metadata": {
            "tags": []
          },
          "execution_count": 13
        }
      ]
    },
    {
      "cell_type": "code",
      "metadata": {
        "id": "QVvWSY8jpRDO",
        "colab_type": "code",
        "outputId": "b16fc83d-0722-41f1-cfb8-c1f6d0d6458f",
        "colab": {
          "base_uri": "https://localhost:8080/",
          "height": 309
        }
      },
      "source": [
        "data['Ethnic_Code_Text'] = Ethnic_Code_Text\n",
        "\n",
        "data.head()"
      ],
      "execution_count": 0,
      "outputs": [
        {
          "output_type": "execute_result",
          "data": {
            "text/html": [
              "<div>\n",
              "<style scoped>\n",
              "    .dataframe tbody tr th:only-of-type {\n",
              "        vertical-align: middle;\n",
              "    }\n",
              "\n",
              "    .dataframe tbody tr th {\n",
              "        vertical-align: top;\n",
              "    }\n",
              "\n",
              "    .dataframe thead th {\n",
              "        text-align: right;\n",
              "    }\n",
              "</style>\n",
              "<table border=\"1\" class=\"dataframe\">\n",
              "  <thead>\n",
              "    <tr style=\"text-align: right;\">\n",
              "      <th></th>\n",
              "      <th>Person_ID</th>\n",
              "      <th>AssessmentID</th>\n",
              "      <th>Case_ID</th>\n",
              "      <th>Agency_Text</th>\n",
              "      <th>Sex_Code_Text</th>\n",
              "      <th>Ethnic_Code_Text</th>\n",
              "      <th>ScaleSet</th>\n",
              "      <th>Language</th>\n",
              "      <th>LegalStatus</th>\n",
              "      <th>CustodyStatus</th>\n",
              "      <th>MaritalStatus</th>\n",
              "      <th>RecSupervisionLevel</th>\n",
              "      <th>RecSupervisionLevelText</th>\n",
              "      <th>ScoreText</th>\n",
              "      <th>AssessmentType</th>\n",
              "      <th>ViolenceScore</th>\n",
              "      <th>RecidivismScore</th>\n",
              "      <th>FailToAppearScore</th>\n",
              "      <th>Age</th>\n",
              "    </tr>\n",
              "  </thead>\n",
              "  <tbody>\n",
              "    <tr>\n",
              "      <th>0</th>\n",
              "      <td>50844</td>\n",
              "      <td>57167</td>\n",
              "      <td>51950</td>\n",
              "      <td>PRETRIAL</td>\n",
              "      <td>Male</td>\n",
              "      <td>Caucasian</td>\n",
              "      <td>Risk and Prescreen</td>\n",
              "      <td>English</td>\n",
              "      <td>Pretrial</td>\n",
              "      <td>Jail Inmate</td>\n",
              "      <td>Single</td>\n",
              "      <td>1</td>\n",
              "      <td>Low</td>\n",
              "      <td>Low</td>\n",
              "      <td>New</td>\n",
              "      <td>-2.08</td>\n",
              "      <td>-1.06</td>\n",
              "      <td>15.0</td>\n",
              "      <td>21</td>\n",
              "    </tr>\n",
              "    <tr>\n",
              "      <th>1</th>\n",
              "      <td>50848</td>\n",
              "      <td>57174</td>\n",
              "      <td>51956</td>\n",
              "      <td>PRETRIAL</td>\n",
              "      <td>Male</td>\n",
              "      <td>Caucasian</td>\n",
              "      <td>Risk and Prescreen</td>\n",
              "      <td>English</td>\n",
              "      <td>Pretrial</td>\n",
              "      <td>Jail Inmate</td>\n",
              "      <td>Married</td>\n",
              "      <td>1</td>\n",
              "      <td>Low</td>\n",
              "      <td>Low</td>\n",
              "      <td>New</td>\n",
              "      <td>-2.84</td>\n",
              "      <td>-1.50</td>\n",
              "      <td>19.0</td>\n",
              "      <td>29</td>\n",
              "    </tr>\n",
              "    <tr>\n",
              "      <th>2</th>\n",
              "      <td>50855</td>\n",
              "      <td>57181</td>\n",
              "      <td>51963</td>\n",
              "      <td>PRETRIAL</td>\n",
              "      <td>Male</td>\n",
              "      <td>African-American</td>\n",
              "      <td>Risk and Prescreen</td>\n",
              "      <td>English</td>\n",
              "      <td>Pretrial</td>\n",
              "      <td>Jail Inmate</td>\n",
              "      <td>Single</td>\n",
              "      <td>4</td>\n",
              "      <td>High</td>\n",
              "      <td>High</td>\n",
              "      <td>New</td>\n",
              "      <td>-1.20</td>\n",
              "      <td>0.18</td>\n",
              "      <td>13.0</td>\n",
              "      <td>19</td>\n",
              "    </tr>\n",
              "    <tr>\n",
              "      <th>3</th>\n",
              "      <td>50850</td>\n",
              "      <td>57176</td>\n",
              "      <td>51958</td>\n",
              "      <td>PRETRIAL</td>\n",
              "      <td>Female</td>\n",
              "      <td>African-American</td>\n",
              "      <td>Risk and Prescreen</td>\n",
              "      <td>English</td>\n",
              "      <td>Pretrial</td>\n",
              "      <td>Jail Inmate</td>\n",
              "      <td>Significant Other</td>\n",
              "      <td>2</td>\n",
              "      <td>Medium</td>\n",
              "      <td>Medium</td>\n",
              "      <td>New</td>\n",
              "      <td>-1.29</td>\n",
              "      <td>-0.53</td>\n",
              "      <td>11.0</td>\n",
              "      <td>19</td>\n",
              "    </tr>\n",
              "    <tr>\n",
              "      <th>4</th>\n",
              "      <td>50839</td>\n",
              "      <td>57162</td>\n",
              "      <td>51945</td>\n",
              "      <td>PRETRIAL</td>\n",
              "      <td>Female</td>\n",
              "      <td>African-American</td>\n",
              "      <td>Risk and Prescreen</td>\n",
              "      <td>English</td>\n",
              "      <td>Pretrial</td>\n",
              "      <td>Jail Inmate</td>\n",
              "      <td>Single</td>\n",
              "      <td>1</td>\n",
              "      <td>Low</td>\n",
              "      <td>Low</td>\n",
              "      <td>New</td>\n",
              "      <td>-2.90</td>\n",
              "      <td>-1.55</td>\n",
              "      <td>16.0</td>\n",
              "      <td>28</td>\n",
              "    </tr>\n",
              "  </tbody>\n",
              "</table>\n",
              "</div>"
            ],
            "text/plain": [
              "   Person_ID  AssessmentID  Case_ID Agency_Text Sex_Code_Text  \\\n",
              "0      50844         57167    51950    PRETRIAL          Male   \n",
              "1      50848         57174    51956    PRETRIAL          Male   \n",
              "2      50855         57181    51963    PRETRIAL          Male   \n",
              "3      50850         57176    51958    PRETRIAL        Female   \n",
              "4      50839         57162    51945    PRETRIAL        Female   \n",
              "\n",
              "   Ethnic_Code_Text            ScaleSet Language LegalStatus CustodyStatus  \\\n",
              "0         Caucasian  Risk and Prescreen  English    Pretrial   Jail Inmate   \n",
              "1         Caucasian  Risk and Prescreen  English    Pretrial   Jail Inmate   \n",
              "2  African-American  Risk and Prescreen  English    Pretrial   Jail Inmate   \n",
              "3  African-American  Risk and Prescreen  English    Pretrial   Jail Inmate   \n",
              "4  African-American  Risk and Prescreen  English    Pretrial   Jail Inmate   \n",
              "\n",
              "       MaritalStatus  RecSupervisionLevel RecSupervisionLevelText ScoreText  \\\n",
              "0             Single                    1                     Low       Low   \n",
              "1            Married                    1                     Low       Low   \n",
              "2             Single                    4                    High      High   \n",
              "3  Significant Other                    2                  Medium    Medium   \n",
              "4             Single                    1                     Low       Low   \n",
              "\n",
              "  AssessmentType  ViolenceScore  RecidivismScore  FailToAppearScore  Age  \n",
              "0            New          -2.08            -1.06               15.0   21  \n",
              "1            New          -2.84            -1.50               19.0   29  \n",
              "2            New          -1.20             0.18               13.0   19  \n",
              "3            New          -1.29            -0.53               11.0   19  \n",
              "4            New          -2.90            -1.55               16.0   28  "
            ]
          },
          "metadata": {
            "tags": []
          },
          "execution_count": 14
        }
      ]
    },
    {
      "cell_type": "markdown",
      "metadata": {
        "id": "-jldTp-wNF4V",
        "colab_type": "text"
      },
      "source": [
        "## Overview of the Data"
      ]
    },
    {
      "cell_type": "markdown",
      "metadata": {
        "id": "NxsEmSuoIJXa",
        "colab_type": "text"
      },
      "source": [
        "Basic statistics on the data"
      ]
    },
    {
      "cell_type": "code",
      "metadata": {
        "id": "yBUiCyRHbL-E",
        "colab_type": "code",
        "outputId": "9a5b5f54-81db-4079-f350-3d1a60e3c59b",
        "colab": {
          "base_uri": "https://localhost:8080/",
          "height": 317
        }
      },
      "source": [
        "data.describe()"
      ],
      "execution_count": 0,
      "outputs": [
        {
          "output_type": "execute_result",
          "data": {
            "text/html": [
              "<div>\n",
              "<style scoped>\n",
              "    .dataframe tbody tr th:only-of-type {\n",
              "        vertical-align: middle;\n",
              "    }\n",
              "\n",
              "    .dataframe tbody tr th {\n",
              "        vertical-align: top;\n",
              "    }\n",
              "\n",
              "    .dataframe thead th {\n",
              "        text-align: right;\n",
              "    }\n",
              "</style>\n",
              "<table border=\"1\" class=\"dataframe\">\n",
              "  <thead>\n",
              "    <tr style=\"text-align: right;\">\n",
              "      <th></th>\n",
              "      <th>Person_ID</th>\n",
              "      <th>AssessmentID</th>\n",
              "      <th>Case_ID</th>\n",
              "      <th>RecSupervisionLevel</th>\n",
              "      <th>ViolenceScore</th>\n",
              "      <th>RecidivismScore</th>\n",
              "      <th>FailToAppearScore</th>\n",
              "      <th>Age</th>\n",
              "    </tr>\n",
              "  </thead>\n",
              "  <tbody>\n",
              "    <tr>\n",
              "      <th>count</th>\n",
              "      <td>20281.000000</td>\n",
              "      <td>20281.000000</td>\n",
              "      <td>20281.000000</td>\n",
              "      <td>20281.000000</td>\n",
              "      <td>20281.000000</td>\n",
              "      <td>20281.000000</td>\n",
              "      <td>20281.000000</td>\n",
              "      <td>20281.000000</td>\n",
              "    </tr>\n",
              "    <tr>\n",
              "      <th>mean</th>\n",
              "      <td>53683.206154</td>\n",
              "      <td>68061.029190</td>\n",
              "      <td>60209.128149</td>\n",
              "      <td>1.630048</td>\n",
              "      <td>-2.522486</td>\n",
              "      <td>-0.770592</td>\n",
              "      <td>18.537449</td>\n",
              "      <td>33.445984</td>\n",
              "    </tr>\n",
              "    <tr>\n",
              "      <th>std</th>\n",
              "      <td>14363.884602</td>\n",
              "      <td>7320.328544</td>\n",
              "      <td>9638.660076</td>\n",
              "      <td>0.944235</td>\n",
              "      <td>0.891932</td>\n",
              "      <td>0.847866</td>\n",
              "      <td>5.495685</td>\n",
              "      <td>12.189470</td>\n",
              "    </tr>\n",
              "    <tr>\n",
              "      <th>min</th>\n",
              "      <td>656.000000</td>\n",
              "      <td>649.000000</td>\n",
              "      <td>350.000000</td>\n",
              "      <td>1.000000</td>\n",
              "      <td>-4.790000</td>\n",
              "      <td>-3.210000</td>\n",
              "      <td>11.000000</td>\n",
              "      <td>15.000000</td>\n",
              "    </tr>\n",
              "    <tr>\n",
              "      <th>25%</th>\n",
              "      <td>52039.000000</td>\n",
              "      <td>62582.000000</td>\n",
              "      <td>56021.000000</td>\n",
              "      <td>1.000000</td>\n",
              "      <td>-3.180000</td>\n",
              "      <td>-1.380000</td>\n",
              "      <td>14.000000</td>\n",
              "      <td>24.000000</td>\n",
              "    </tr>\n",
              "    <tr>\n",
              "      <th>50%</th>\n",
              "      <td>57321.000000</td>\n",
              "      <td>68229.000000</td>\n",
              "      <td>61261.000000</td>\n",
              "      <td>1.000000</td>\n",
              "      <td>-2.530000</td>\n",
              "      <td>-0.760000</td>\n",
              "      <td>17.000000</td>\n",
              "      <td>30.000000</td>\n",
              "    </tr>\n",
              "    <tr>\n",
              "      <th>75%</th>\n",
              "      <td>62748.000000</td>\n",
              "      <td>73870.000000</td>\n",
              "      <td>66554.000000</td>\n",
              "      <td>2.000000</td>\n",
              "      <td>-1.900000</td>\n",
              "      <td>-0.150000</td>\n",
              "      <td>22.000000</td>\n",
              "      <td>42.000000</td>\n",
              "    </tr>\n",
              "    <tr>\n",
              "      <th>max</th>\n",
              "      <td>68608.000000</td>\n",
              "      <td>79678.000000</td>\n",
              "      <td>72045.000000</td>\n",
              "      <td>4.000000</td>\n",
              "      <td>1.520000</td>\n",
              "      <td>2.360000</td>\n",
              "      <td>51.000000</td>\n",
              "      <td>94.000000</td>\n",
              "    </tr>\n",
              "  </tbody>\n",
              "</table>\n",
              "</div>"
            ],
            "text/plain": [
              "          Person_ID  AssessmentID       Case_ID  RecSupervisionLevel  \\\n",
              "count  20281.000000  20281.000000  20281.000000         20281.000000   \n",
              "mean   53683.206154  68061.029190  60209.128149             1.630048   \n",
              "std    14363.884602   7320.328544   9638.660076             0.944235   \n",
              "min      656.000000    649.000000    350.000000             1.000000   \n",
              "25%    52039.000000  62582.000000  56021.000000             1.000000   \n",
              "50%    57321.000000  68229.000000  61261.000000             1.000000   \n",
              "75%    62748.000000  73870.000000  66554.000000             2.000000   \n",
              "max    68608.000000  79678.000000  72045.000000             4.000000   \n",
              "\n",
              "       ViolenceScore  RecidivismScore  FailToAppearScore           Age  \n",
              "count   20281.000000     20281.000000       20281.000000  20281.000000  \n",
              "mean       -2.522486        -0.770592          18.537449     33.445984  \n",
              "std         0.891932         0.847866           5.495685     12.189470  \n",
              "min        -4.790000        -3.210000          11.000000     15.000000  \n",
              "25%        -3.180000        -1.380000          14.000000     24.000000  \n",
              "50%        -2.530000        -0.760000          17.000000     30.000000  \n",
              "75%        -1.900000        -0.150000          22.000000     42.000000  \n",
              "max         1.520000         2.360000          51.000000     94.000000  "
            ]
          },
          "metadata": {
            "tags": []
          },
          "execution_count": 15
        }
      ]
    },
    {
      "cell_type": "markdown",
      "metadata": {
        "id": "BR3pFPn-IWjY",
        "colab_type": "text"
      },
      "source": [
        "More information on the data"
      ]
    },
    {
      "cell_type": "code",
      "metadata": {
        "id": "F5OjjGrIPr7T",
        "colab_type": "code",
        "outputId": "39185151-6028-41a2-9cfb-1fcadeb4af7a",
        "colab": {
          "base_uri": "https://localhost:8080/",
          "height": 445
        }
      },
      "source": [
        "data.info()"
      ],
      "execution_count": 0,
      "outputs": [
        {
          "output_type": "stream",
          "text": [
            "<class 'pandas.core.frame.DataFrame'>\n",
            "RangeIndex: 20281 entries, 0 to 20280\n",
            "Data columns (total 19 columns):\n",
            "Person_ID                  20281 non-null int64\n",
            "AssessmentID               20281 non-null int64\n",
            "Case_ID                    20281 non-null int64\n",
            "Agency_Text                20281 non-null object\n",
            "Sex_Code_Text              20281 non-null object\n",
            "Ethnic_Code_Text           20281 non-null object\n",
            "ScaleSet                   20281 non-null object\n",
            "Language                   20281 non-null object\n",
            "LegalStatus                20281 non-null object\n",
            "CustodyStatus              20281 non-null object\n",
            "MaritalStatus              20281 non-null object\n",
            "RecSupervisionLevel        20281 non-null int64\n",
            "RecSupervisionLevelText    20281 non-null object\n",
            "ScoreText                  20245 non-null object\n",
            "AssessmentType             20281 non-null object\n",
            "ViolenceScore              20281 non-null float64\n",
            "RecidivismScore            20281 non-null float64\n",
            "FailToAppearScore          20281 non-null float64\n",
            "Age                        20281 non-null int64\n",
            "dtypes: float64(3), int64(5), object(11)\n",
            "memory usage: 2.9+ MB\n"
          ],
          "name": "stdout"
        }
      ]
    },
    {
      "cell_type": "markdown",
      "metadata": {
        "id": "Z02r8sjkNjZT",
        "colab_type": "text"
      },
      "source": [
        "# Splitting the Data\n",
        "\n",
        "For Logistical Regression, we need to separate the data into Training Data and Test Data"
      ]
    },
    {
      "cell_type": "markdown",
      "metadata": {
        "id": "9YOIwUqeN1Sz",
        "colab_type": "text"
      },
      "source": [
        "We were advised to use 80% of the data for training and 20% of the data for testing. So in this cell we take a random sample for the Test Data and use everything else for Training Data."
      ]
    },
    {
      "cell_type": "code",
      "metadata": {
        "id": "O07i6xH2YXyS",
        "colab_type": "code",
        "colab": {}
      },
      "source": [
        "#split up training and test data\n",
        "test_data = data.sample(frac = 0.2, random_state = 96000)\n",
        "\n",
        "training_data = data.drop(test_data.index)"
      ],
      "execution_count": 0,
      "outputs": []
    },
    {
      "cell_type": "markdown",
      "metadata": {
        "id": "YpEdBYFuORk_",
        "colab_type": "text"
      },
      "source": [
        "We look at the Data to gain some information on the nature of the entries"
      ]
    },
    {
      "cell_type": "code",
      "metadata": {
        "id": "k8y53X4PO9Py",
        "colab_type": "code",
        "outputId": "5cf54187-cc40-44d8-ce73-a4f6cc45acdf",
        "colab": {
          "base_uri": "https://localhost:8080/",
          "height": 445
        }
      },
      "source": [
        "test_data.info()"
      ],
      "execution_count": 0,
      "outputs": [
        {
          "output_type": "stream",
          "text": [
            "<class 'pandas.core.frame.DataFrame'>\n",
            "Int64Index: 4056 entries, 7160 to 16817\n",
            "Data columns (total 19 columns):\n",
            "Person_ID                  4056 non-null int64\n",
            "AssessmentID               4056 non-null int64\n",
            "Case_ID                    4056 non-null int64\n",
            "Agency_Text                4056 non-null object\n",
            "Sex_Code_Text              4056 non-null object\n",
            "Ethnic_Code_Text           4056 non-null object\n",
            "ScaleSet                   4056 non-null object\n",
            "Language                   4056 non-null object\n",
            "LegalStatus                4056 non-null object\n",
            "CustodyStatus              4056 non-null object\n",
            "MaritalStatus              4056 non-null object\n",
            "RecSupervisionLevel        4056 non-null int64\n",
            "RecSupervisionLevelText    4056 non-null object\n",
            "ScoreText                  4048 non-null object\n",
            "AssessmentType             4056 non-null object\n",
            "ViolenceScore              4056 non-null float64\n",
            "RecidivismScore            4056 non-null float64\n",
            "FailToAppearScore          4056 non-null float64\n",
            "Age                        4056 non-null int64\n",
            "dtypes: float64(3), int64(5), object(11)\n",
            "memory usage: 633.8+ KB\n"
          ],
          "name": "stdout"
        }
      ]
    },
    {
      "cell_type": "code",
      "metadata": {
        "id": "r0wTm2JVPDyE",
        "colab_type": "code",
        "outputId": "6717496b-fd10-4ae4-d409-72997b6f4851",
        "colab": {
          "base_uri": "https://localhost:8080/",
          "height": 445
        }
      },
      "source": [
        "training_data.info()"
      ],
      "execution_count": 0,
      "outputs": [
        {
          "output_type": "stream",
          "text": [
            "<class 'pandas.core.frame.DataFrame'>\n",
            "Int64Index: 16225 entries, 0 to 20279\n",
            "Data columns (total 19 columns):\n",
            "Person_ID                  16225 non-null int64\n",
            "AssessmentID               16225 non-null int64\n",
            "Case_ID                    16225 non-null int64\n",
            "Agency_Text                16225 non-null object\n",
            "Sex_Code_Text              16225 non-null object\n",
            "Ethnic_Code_Text           16225 non-null object\n",
            "ScaleSet                   16225 non-null object\n",
            "Language                   16225 non-null object\n",
            "LegalStatus                16225 non-null object\n",
            "CustodyStatus              16225 non-null object\n",
            "MaritalStatus              16225 non-null object\n",
            "RecSupervisionLevel        16225 non-null int64\n",
            "RecSupervisionLevelText    16225 non-null object\n",
            "ScoreText                  16197 non-null object\n",
            "AssessmentType             16225 non-null object\n",
            "ViolenceScore              16225 non-null float64\n",
            "RecidivismScore            16225 non-null float64\n",
            "FailToAppearScore          16225 non-null float64\n",
            "Age                        16225 non-null int64\n",
            "dtypes: float64(3), int64(5), object(11)\n",
            "memory usage: 2.5+ MB\n"
          ],
          "name": "stdout"
        }
      ]
    },
    {
      "cell_type": "markdown",
      "metadata": {
        "id": "QJ3xOijoPaje",
        "colab_type": "text"
      },
      "source": [
        "# Fitting the Data"
      ]
    },
    {
      "cell_type": "markdown",
      "metadata": {
        "id": "JDIKZ7rfPrgi",
        "colab_type": "text"
      },
      "source": [
        "## Encoding the Data\n",
        "\n",
        "From looking at the info for each data frame, we can see that many of the columns do not contain numerical values. This will cause issues when it comes to using the data for logistical regression. Because of this, we encode many of the columns."
      ]
    },
    {
      "cell_type": "markdown",
      "metadata": {
        "id": "5tiz_rEzQ0n3",
        "colab_type": "text"
      },
      "source": [
        "### Creating Label Encoders\n",
        "Label Encoders can be made as individidual vairables. However, since we have to encode so many columns we made a dictionary of Label Encoders. More specifically, we use the column name to access the Label Encoder for that attribute."
      ]
    },
    {
      "cell_type": "markdown",
      "metadata": {
        "id": "W1wcwt_lRl4r",
        "colab_type": "text"
      },
      "source": [
        "Gather column names for columns we need to encode"
      ]
    },
    {
      "cell_type": "code",
      "metadata": {
        "id": "UqzHAfjdRvo9",
        "colab_type": "code",
        "colab": {}
      },
      "source": [
        "text_col = ['Agency_Text',\n",
        "            'Sex_Code_Text',\n",
        "            'Ethnic_Code_Text',\n",
        "            'ScaleSet',\n",
        "            'LegalStatus',\n",
        "            'CustodyStatus',\n",
        "            'MaritalStatus',\n",
        "            'AssessmentType',\n",
        "            'Language'\n",
        "           ]"
      ],
      "execution_count": 0,
      "outputs": []
    },
    {
      "cell_type": "markdown",
      "metadata": {
        "id": "Qwbn82JNSJQt",
        "colab_type": "text"
      },
      "source": [
        "Now that we know the text columns we are encoding we can now make the Label Encoders for those attributes."
      ]
    },
    {
      "cell_type": "code",
      "metadata": {
        "id": "04CiVpLKsSK5",
        "colab_type": "code",
        "colab": {}
      },
      "source": [
        "le_dict = {}\n",
        "\n",
        "#insert key and label encoder\n",
        "for col in text_col:\n",
        "  le_dict[col] = pre.LabelEncoder()"
      ],
      "execution_count": 0,
      "outputs": []
    },
    {
      "cell_type": "markdown",
      "metadata": {
        "id": "W9Qr2r6VSYio",
        "colab_type": "text"
      },
      "source": [
        "Due to how SKLearn works, we cannot have what we are estimating be a continuous type, such as `float64`.\n",
        "\n",
        "Since RecidivismScore is of type, `float64`,  we have to encode that attribute as well"
      ]
    },
    {
      "cell_type": "code",
      "metadata": {
        "id": "_Jkj45mFSY5j",
        "colab_type": "code",
        "colab": {}
      },
      "source": [
        "le_dict['RecidivismScore'] = pre.LabelEncoder()\n",
        "\n",
        "le_dict['ScoreText'] = pre.LabelEncoder()"
      ],
      "execution_count": 0,
      "outputs": []
    },
    {
      "cell_type": "markdown",
      "metadata": {
        "id": "h2aJrmGCTqMD",
        "colab_type": "text"
      },
      "source": [
        "### Encoding"
      ]
    },
    {
      "cell_type": "markdown",
      "metadata": {
        "id": "9YC1pul9UG6B",
        "colab_type": "text"
      },
      "source": [
        "There is some information in the Test Data that is useful for observing the Data, but will not be used for fitting or estimating."
      ]
    },
    {
      "cell_type": "code",
      "metadata": {
        "id": "Xcg_yr_WT6oj",
        "colab_type": "code",
        "colab": {}
      },
      "source": [
        "X_drop = ['Person_ID', #ID not needed\n",
        "          'AssessmentID', #ID not needed\n",
        "          'Case_ID', #ID not needed\n",
        "          'RecidivismScore', #this will be our dependent variable and thus cannot be one of the independent variables\n",
        "          'RecSupervisionLevelText', #There is already a numerical value for this in the Training Data\n",
        "          'ScoreText' #is a dependant variable\n",
        "         ]"
      ],
      "execution_count": 0,
      "outputs": []
    },
    {
      "cell_type": "markdown",
      "metadata": {
        "id": "7QuWPQtxVF2o",
        "colab_type": "text"
      },
      "source": [
        "Create `X` and `y` for Logistic regression"
      ]
    },
    {
      "cell_type": "code",
      "metadata": {
        "id": "0cEbfds0VPqM",
        "colab_type": "code",
        "outputId": "f85df77d-5134-4492-ec00-f11964ac06fc",
        "colab": {
          "base_uri": "https://localhost:8080/",
          "height": 309
        }
      },
      "source": [
        "X = training_data.drop(X_drop, 1)\n",
        "\n",
        "X.head()"
      ],
      "execution_count": 0,
      "outputs": [
        {
          "output_type": "execute_result",
          "data": {
            "text/html": [
              "<div>\n",
              "<style scoped>\n",
              "    .dataframe tbody tr th:only-of-type {\n",
              "        vertical-align: middle;\n",
              "    }\n",
              "\n",
              "    .dataframe tbody tr th {\n",
              "        vertical-align: top;\n",
              "    }\n",
              "\n",
              "    .dataframe thead th {\n",
              "        text-align: right;\n",
              "    }\n",
              "</style>\n",
              "<table border=\"1\" class=\"dataframe\">\n",
              "  <thead>\n",
              "    <tr style=\"text-align: right;\">\n",
              "      <th></th>\n",
              "      <th>Agency_Text</th>\n",
              "      <th>Sex_Code_Text</th>\n",
              "      <th>Ethnic_Code_Text</th>\n",
              "      <th>ScaleSet</th>\n",
              "      <th>Language</th>\n",
              "      <th>LegalStatus</th>\n",
              "      <th>CustodyStatus</th>\n",
              "      <th>MaritalStatus</th>\n",
              "      <th>RecSupervisionLevel</th>\n",
              "      <th>AssessmentType</th>\n",
              "      <th>ViolenceScore</th>\n",
              "      <th>FailToAppearScore</th>\n",
              "      <th>Age</th>\n",
              "    </tr>\n",
              "  </thead>\n",
              "  <tbody>\n",
              "    <tr>\n",
              "      <th>0</th>\n",
              "      <td>PRETRIAL</td>\n",
              "      <td>Male</td>\n",
              "      <td>Caucasian</td>\n",
              "      <td>Risk and Prescreen</td>\n",
              "      <td>English</td>\n",
              "      <td>Pretrial</td>\n",
              "      <td>Jail Inmate</td>\n",
              "      <td>Single</td>\n",
              "      <td>1</td>\n",
              "      <td>New</td>\n",
              "      <td>-2.08</td>\n",
              "      <td>15.0</td>\n",
              "      <td>21</td>\n",
              "    </tr>\n",
              "    <tr>\n",
              "      <th>1</th>\n",
              "      <td>PRETRIAL</td>\n",
              "      <td>Male</td>\n",
              "      <td>Caucasian</td>\n",
              "      <td>Risk and Prescreen</td>\n",
              "      <td>English</td>\n",
              "      <td>Pretrial</td>\n",
              "      <td>Jail Inmate</td>\n",
              "      <td>Married</td>\n",
              "      <td>1</td>\n",
              "      <td>New</td>\n",
              "      <td>-2.84</td>\n",
              "      <td>19.0</td>\n",
              "      <td>29</td>\n",
              "    </tr>\n",
              "    <tr>\n",
              "      <th>2</th>\n",
              "      <td>PRETRIAL</td>\n",
              "      <td>Male</td>\n",
              "      <td>African-American</td>\n",
              "      <td>Risk and Prescreen</td>\n",
              "      <td>English</td>\n",
              "      <td>Pretrial</td>\n",
              "      <td>Jail Inmate</td>\n",
              "      <td>Single</td>\n",
              "      <td>4</td>\n",
              "      <td>New</td>\n",
              "      <td>-1.20</td>\n",
              "      <td>13.0</td>\n",
              "      <td>19</td>\n",
              "    </tr>\n",
              "    <tr>\n",
              "      <th>3</th>\n",
              "      <td>PRETRIAL</td>\n",
              "      <td>Female</td>\n",
              "      <td>African-American</td>\n",
              "      <td>Risk and Prescreen</td>\n",
              "      <td>English</td>\n",
              "      <td>Pretrial</td>\n",
              "      <td>Jail Inmate</td>\n",
              "      <td>Significant Other</td>\n",
              "      <td>2</td>\n",
              "      <td>New</td>\n",
              "      <td>-1.29</td>\n",
              "      <td>11.0</td>\n",
              "      <td>19</td>\n",
              "    </tr>\n",
              "    <tr>\n",
              "      <th>4</th>\n",
              "      <td>PRETRIAL</td>\n",
              "      <td>Female</td>\n",
              "      <td>African-American</td>\n",
              "      <td>Risk and Prescreen</td>\n",
              "      <td>English</td>\n",
              "      <td>Pretrial</td>\n",
              "      <td>Jail Inmate</td>\n",
              "      <td>Single</td>\n",
              "      <td>1</td>\n",
              "      <td>New</td>\n",
              "      <td>-2.90</td>\n",
              "      <td>16.0</td>\n",
              "      <td>28</td>\n",
              "    </tr>\n",
              "  </tbody>\n",
              "</table>\n",
              "</div>"
            ],
            "text/plain": [
              "  Agency_Text Sex_Code_Text  Ethnic_Code_Text            ScaleSet Language  \\\n",
              "0    PRETRIAL          Male         Caucasian  Risk and Prescreen  English   \n",
              "1    PRETRIAL          Male         Caucasian  Risk and Prescreen  English   \n",
              "2    PRETRIAL          Male  African-American  Risk and Prescreen  English   \n",
              "3    PRETRIAL        Female  African-American  Risk and Prescreen  English   \n",
              "4    PRETRIAL        Female  African-American  Risk and Prescreen  English   \n",
              "\n",
              "  LegalStatus CustodyStatus      MaritalStatus  RecSupervisionLevel  \\\n",
              "0    Pretrial   Jail Inmate             Single                    1   \n",
              "1    Pretrial   Jail Inmate            Married                    1   \n",
              "2    Pretrial   Jail Inmate             Single                    4   \n",
              "3    Pretrial   Jail Inmate  Significant Other                    2   \n",
              "4    Pretrial   Jail Inmate             Single                    1   \n",
              "\n",
              "  AssessmentType  ViolenceScore  FailToAppearScore  Age  \n",
              "0            New          -2.08               15.0   21  \n",
              "1            New          -2.84               19.0   29  \n",
              "2            New          -1.20               13.0   19  \n",
              "3            New          -1.29               11.0   19  \n",
              "4            New          -2.90               16.0   28  "
            ]
          },
          "metadata": {
            "tags": []
          },
          "execution_count": 24
        }
      ]
    },
    {
      "cell_type": "code",
      "metadata": {
        "id": "KhvimsakVab7",
        "colab_type": "code",
        "outputId": "f7f5a7bc-ec9f-4a70-c699-54d420c57178",
        "colab": {
          "base_uri": "https://localhost:8080/",
          "height": 139
        }
      },
      "source": [
        "y = training_data.RecidivismScore\n",
        "\n",
        "y.head()"
      ],
      "execution_count": 0,
      "outputs": [
        {
          "output_type": "execute_result",
          "data": {
            "text/plain": [
              "0   -1.06\n",
              "1   -1.50\n",
              "2    0.18\n",
              "3   -0.53\n",
              "4   -1.55\n",
              "Name: RecidivismScore, dtype: float64"
            ]
          },
          "metadata": {
            "tags": []
          },
          "execution_count": 25
        }
      ]
    },
    {
      "cell_type": "code",
      "metadata": {
        "id": "iyX2OwLC9j46",
        "colab_type": "code",
        "outputId": "9ae746c8-e1ed-4396-b6fa-982467a8e412",
        "colab": {
          "base_uri": "https://localhost:8080/",
          "height": 139
        }
      },
      "source": [
        "y_text = training_data['ScoreText']\n",
        "\n",
        "y_text.head()"
      ],
      "execution_count": 0,
      "outputs": [
        {
          "output_type": "execute_result",
          "data": {
            "text/plain": [
              "0       Low\n",
              "1       Low\n",
              "2      High\n",
              "3    Medium\n",
              "4       Low\n",
              "Name: ScoreText, dtype: object"
            ]
          },
          "metadata": {
            "tags": []
          },
          "execution_count": 26
        }
      ]
    },
    {
      "cell_type": "markdown",
      "metadata": {
        "id": "rgJp-HXIVjvx",
        "colab_type": "text"
      },
      "source": [
        "Now we encode `X` and `y`.\n",
        "\n",
        "`fit_transform()` is used here because it both fits the data and returns the transformed version. This will only be used for the Training Data."
      ]
    },
    {
      "cell_type": "code",
      "metadata": {
        "id": "X1gkGeHzVr8S",
        "colab_type": "code",
        "colab": {}
      },
      "source": [
        "for col in text_col:\n",
        "  X[col] = le_dict[col].fit_transform(X[col])\n",
        "  \n",
        "\n",
        "y = le_dict['RecidivismScore'].fit_transform(y)\n",
        "\n",
        "y_text = le_dict['ScoreText'].fit_transform(y_text)"
      ],
      "execution_count": 0,
      "outputs": []
    },
    {
      "cell_type": "code",
      "metadata": {
        "id": "rvHH6mBxV_mJ",
        "colab_type": "code",
        "outputId": "02019049-5759-4f62-c73a-dc3bb0c16334",
        "colab": {
          "base_uri": "https://localhost:8080/",
          "height": 224
        }
      },
      "source": [
        "X.head()"
      ],
      "execution_count": 0,
      "outputs": [
        {
          "output_type": "execute_result",
          "data": {
            "text/html": [
              "<div>\n",
              "<style scoped>\n",
              "    .dataframe tbody tr th:only-of-type {\n",
              "        vertical-align: middle;\n",
              "    }\n",
              "\n",
              "    .dataframe tbody tr th {\n",
              "        vertical-align: top;\n",
              "    }\n",
              "\n",
              "    .dataframe thead th {\n",
              "        text-align: right;\n",
              "    }\n",
              "</style>\n",
              "<table border=\"1\" class=\"dataframe\">\n",
              "  <thead>\n",
              "    <tr style=\"text-align: right;\">\n",
              "      <th></th>\n",
              "      <th>Agency_Text</th>\n",
              "      <th>Sex_Code_Text</th>\n",
              "      <th>Ethnic_Code_Text</th>\n",
              "      <th>ScaleSet</th>\n",
              "      <th>Language</th>\n",
              "      <th>LegalStatus</th>\n",
              "      <th>CustodyStatus</th>\n",
              "      <th>MaritalStatus</th>\n",
              "      <th>RecSupervisionLevel</th>\n",
              "      <th>AssessmentType</th>\n",
              "      <th>ViolenceScore</th>\n",
              "      <th>FailToAppearScore</th>\n",
              "      <th>Age</th>\n",
              "    </tr>\n",
              "  </thead>\n",
              "  <tbody>\n",
              "    <tr>\n",
              "      <th>0</th>\n",
              "      <td>2</td>\n",
              "      <td>1</td>\n",
              "      <td>3</td>\n",
              "      <td>1</td>\n",
              "      <td>0</td>\n",
              "      <td>5</td>\n",
              "      <td>0</td>\n",
              "      <td>4</td>\n",
              "      <td>1</td>\n",
              "      <td>1</td>\n",
              "      <td>-2.08</td>\n",
              "      <td>15.0</td>\n",
              "      <td>21</td>\n",
              "    </tr>\n",
              "    <tr>\n",
              "      <th>1</th>\n",
              "      <td>2</td>\n",
              "      <td>1</td>\n",
              "      <td>3</td>\n",
              "      <td>1</td>\n",
              "      <td>0</td>\n",
              "      <td>5</td>\n",
              "      <td>0</td>\n",
              "      <td>1</td>\n",
              "      <td>1</td>\n",
              "      <td>1</td>\n",
              "      <td>-2.84</td>\n",
              "      <td>19.0</td>\n",
              "      <td>29</td>\n",
              "    </tr>\n",
              "    <tr>\n",
              "      <th>2</th>\n",
              "      <td>2</td>\n",
              "      <td>1</td>\n",
              "      <td>0</td>\n",
              "      <td>1</td>\n",
              "      <td>0</td>\n",
              "      <td>5</td>\n",
              "      <td>0</td>\n",
              "      <td>4</td>\n",
              "      <td>4</td>\n",
              "      <td>1</td>\n",
              "      <td>-1.20</td>\n",
              "      <td>13.0</td>\n",
              "      <td>19</td>\n",
              "    </tr>\n",
              "    <tr>\n",
              "      <th>3</th>\n",
              "      <td>2</td>\n",
              "      <td>0</td>\n",
              "      <td>0</td>\n",
              "      <td>1</td>\n",
              "      <td>0</td>\n",
              "      <td>5</td>\n",
              "      <td>0</td>\n",
              "      <td>3</td>\n",
              "      <td>2</td>\n",
              "      <td>1</td>\n",
              "      <td>-1.29</td>\n",
              "      <td>11.0</td>\n",
              "      <td>19</td>\n",
              "    </tr>\n",
              "    <tr>\n",
              "      <th>4</th>\n",
              "      <td>2</td>\n",
              "      <td>0</td>\n",
              "      <td>0</td>\n",
              "      <td>1</td>\n",
              "      <td>0</td>\n",
              "      <td>5</td>\n",
              "      <td>0</td>\n",
              "      <td>4</td>\n",
              "      <td>1</td>\n",
              "      <td>1</td>\n",
              "      <td>-2.90</td>\n",
              "      <td>16.0</td>\n",
              "      <td>28</td>\n",
              "    </tr>\n",
              "  </tbody>\n",
              "</table>\n",
              "</div>"
            ],
            "text/plain": [
              "   Agency_Text  Sex_Code_Text  Ethnic_Code_Text  ScaleSet  Language  \\\n",
              "0            2              1                 3         1         0   \n",
              "1            2              1                 3         1         0   \n",
              "2            2              1                 0         1         0   \n",
              "3            2              0                 0         1         0   \n",
              "4            2              0                 0         1         0   \n",
              "\n",
              "   LegalStatus  CustodyStatus  MaritalStatus  RecSupervisionLevel  \\\n",
              "0            5              0              4                    1   \n",
              "1            5              0              1                    1   \n",
              "2            5              0              4                    4   \n",
              "3            5              0              3                    2   \n",
              "4            5              0              4                    1   \n",
              "\n",
              "   AssessmentType  ViolenceScore  FailToAppearScore  Age  \n",
              "0               1          -2.08               15.0   21  \n",
              "1               1          -2.84               19.0   29  \n",
              "2               1          -1.20               13.0   19  \n",
              "3               1          -1.29               11.0   19  \n",
              "4               1          -2.90               16.0   28  "
            ]
          },
          "metadata": {
            "tags": []
          },
          "execution_count": 28
        }
      ]
    },
    {
      "cell_type": "code",
      "metadata": {
        "id": "4uX2y6JoV_-A",
        "colab_type": "code",
        "outputId": "c0ceb754-40e5-4d84-9cd1-12679f8bc78c",
        "colab": {
          "base_uri": "https://localhost:8080/",
          "height": 71
        }
      },
      "source": [
        "print y[0:5]\n",
        "\n",
        "print y_text[0:5]"
      ],
      "execution_count": 0,
      "outputs": [
        {
          "output_type": "stream",
          "text": [
            "[197 153 321 250 148]\n",
            "[2 2 1 3 2]\n"
          ],
          "name": "stdout"
        }
      ]
    },
    {
      "cell_type": "markdown",
      "metadata": {
        "id": "tYXyufSVWZU9",
        "colab_type": "text"
      },
      "source": [
        "## Fitting\n",
        "\n",
        "Now that we have the encoding, we can now fit the data so it can be used for estimating.\n",
        "\n",
        "This Cell takes a while since it has to fit a large amount of data."
      ]
    },
    {
      "cell_type": "code",
      "metadata": {
        "id": "PVIhs4hksUUt",
        "colab_type": "code",
        "outputId": "d8ed518d-d532-48fc-bd06-ec1ec4b76aab",
        "colab": {
          "base_uri": "https://localhost:8080/",
          "height": 173
        }
      },
      "source": [
        "lr = LogisticRegression()\n",
        "\n",
        "lr.fit(X, y)"
      ],
      "execution_count": 0,
      "outputs": [
        {
          "output_type": "stream",
          "text": [
            "/usr/local/lib/python2.7/dist-packages/sklearn/linear_model/logistic.py:433: FutureWarning: Default solver will be changed to 'lbfgs' in 0.22. Specify a solver to silence this warning.\n",
            "  FutureWarning)\n",
            "/usr/local/lib/python2.7/dist-packages/sklearn/linear_model/logistic.py:460: FutureWarning: Default multi_class will be changed to 'auto' in 0.22. Specify the multi_class option to silence this warning.\n",
            "  \"this warning.\", FutureWarning)\n"
          ],
          "name": "stderr"
        },
        {
          "output_type": "execute_result",
          "data": {
            "text/plain": [
              "LogisticRegression(C=1.0, class_weight=None, dual=False, fit_intercept=True,\n",
              "          intercept_scaling=1, max_iter=100, multi_class='warn',\n",
              "          n_jobs=None, penalty='l2', random_state=None, solver='warn',\n",
              "          tol=0.0001, verbose=0, warm_start=False)"
            ]
          },
          "metadata": {
            "tags": []
          },
          "execution_count": 30
        }
      ]
    },
    {
      "cell_type": "code",
      "metadata": {
        "id": "rLtH00Rbct3d",
        "colab_type": "code",
        "outputId": "cd9138d7-8792-4bec-dd7d-ea6560335708",
        "colab": {
          "base_uri": "https://localhost:8080/",
          "height": 88
        }
      },
      "source": [
        "knn = KNeighborsClassifier(n_neighbors = 5)\n",
        "\n",
        "knn.fit(X, y_text)"
      ],
      "execution_count": 0,
      "outputs": [
        {
          "output_type": "execute_result",
          "data": {
            "text/plain": [
              "KNeighborsClassifier(algorithm='auto', leaf_size=30, metric='minkowski',\n",
              "           metric_params=None, n_jobs=None, n_neighbors=5, p=2,\n",
              "           weights='uniform')"
            ]
          },
          "metadata": {
            "tags": []
          },
          "execution_count": 31
        }
      ]
    },
    {
      "cell_type": "markdown",
      "metadata": {
        "id": "bpfDZNppXtJP",
        "colab_type": "text"
      },
      "source": [
        "# Predicting"
      ]
    },
    {
      "cell_type": "markdown",
      "metadata": {
        "id": "L8tOhO-WYS2f",
        "colab_type": "text"
      },
      "source": [
        "Encoding the Test Data"
      ]
    },
    {
      "cell_type": "code",
      "metadata": {
        "id": "9mvQxNI8TmIe",
        "colab_type": "code",
        "colab": {}
      },
      "source": [
        "#drop doesn't change original. I'm removing Recidivism score + other stuff. -S\n",
        "X_test = test_data.drop(X_drop, 1)\n",
        "\n",
        "#transform test data using the fit from the training data\n",
        "for col in text_col:\n",
        "  X_test[col] = le_dict[col].transform(X_test[col])"
      ],
      "execution_count": 0,
      "outputs": []
    },
    {
      "cell_type": "markdown",
      "metadata": {
        "id": "glcLWdWKYoaj",
        "colab_type": "text"
      },
      "source": [
        "## Getting Expected Values\n",
        "\n",
        "Now that all the data is fit, we can now get the estimated values for Recidivism Score"
      ]
    },
    {
      "cell_type": "markdown",
      "metadata": {
        "id": "TIcd7DM1Y5C5",
        "colab_type": "text"
      },
      "source": [
        "Estimate for Training Data"
      ]
    },
    {
      "cell_type": "code",
      "metadata": {
        "id": "cUdkqSkzL7J9",
        "colab_type": "code",
        "colab": {}
      },
      "source": [
        "#array of estimated predicted values\n",
        "RecidivismEst = lr.predict(X)\n",
        "RecidivismEst = le_dict['RecidivismScore'].inverse_transform(RecidivismEst)"
      ],
      "execution_count": 0,
      "outputs": []
    },
    {
      "cell_type": "markdown",
      "metadata": {
        "id": "zYisfqnXYpbD",
        "colab_type": "text"
      },
      "source": [
        "Estimate for Test Data"
      ]
    },
    {
      "cell_type": "code",
      "metadata": {
        "id": "D7tUmPerYICP",
        "colab_type": "code",
        "colab": {}
      },
      "source": [
        "#predict the recidivism scores\n",
        "RecidivismEstTest = lr.predict(X_test)\n",
        "RecidivismEstTest = le_dict['RecidivismScore'].inverse_transform(RecidivismEstTest)"
      ],
      "execution_count": 0,
      "outputs": []
    },
    {
      "cell_type": "markdown",
      "metadata": {
        "id": "2Uxg79GTZLHT",
        "colab_type": "text"
      },
      "source": [
        "## Checking MSE\n",
        "\n",
        "Now that we have the values, we can now see how much error there was, and the MSE (mean squared error) represents how much the predicted value strays from the actual value"
      ]
    },
    {
      "cell_type": "markdown",
      "metadata": {
        "id": "EINqTFlUyKTz",
        "colab_type": "text"
      },
      "source": [
        "Training MSE"
      ]
    },
    {
      "cell_type": "code",
      "metadata": {
        "id": "WJ-CcmPEjMaH",
        "colab_type": "code",
        "outputId": "ee55ac7c-2f0c-4d3d-9ec7-e3d14d7311b0",
        "colab": {
          "base_uri": "https://localhost:8080/",
          "height": 34
        }
      },
      "source": [
        "print mean_squared_error(training_data.RecidivismScore, RecidivismEst)"
      ],
      "execution_count": 0,
      "outputs": [
        {
          "output_type": "stream",
          "text": [
            "0.13375605546995378\n"
          ],
          "name": "stdout"
        }
      ]
    },
    {
      "cell_type": "markdown",
      "metadata": {
        "id": "NpB_Vuz_yPkJ",
        "colab_type": "text"
      },
      "source": [
        "Test MSE"
      ]
    },
    {
      "cell_type": "code",
      "metadata": {
        "id": "5IOsnBn4rZM8",
        "colab_type": "code",
        "outputId": "62ff535f-7958-40a0-9ead-5e82309593d2",
        "colab": {
          "base_uri": "https://localhost:8080/",
          "height": 34
        }
      },
      "source": [
        "print mean_squared_error(test_data.RecidivismScore, RecidivismEstTest)"
      ],
      "execution_count": 0,
      "outputs": [
        {
          "output_type": "stream",
          "text": [
            "0.13520751972386585\n"
          ],
          "name": "stdout"
        }
      ]
    },
    {
      "cell_type": "markdown",
      "metadata": {
        "id": "1pIypvuVybZZ",
        "colab_type": "text"
      },
      "source": [
        "# Adding Estimates to Dataframes"
      ]
    },
    {
      "cell_type": "markdown",
      "metadata": {
        "id": "ZNfz77e8ymIU",
        "colab_type": "text"
      },
      "source": [
        "Add estimates to Training Data\n"
      ]
    },
    {
      "cell_type": "code",
      "metadata": {
        "id": "bIfpgE7TritJ",
        "colab_type": "code",
        "outputId": "46e8cdad-c907-497a-dab9-60beb52d1ca1",
        "colab": {
          "base_uri": "https://localhost:8080/",
          "height": 338
        }
      },
      "source": [
        "training_data['RecidivismEst'] = RecidivismEst\n",
        "\n",
        "training_data['ScoreTextEst'] = le_dict['ScoreText'].inverse_transform(knn.predict(X))\n",
        "\n",
        "training_data.head()"
      ],
      "execution_count": 0,
      "outputs": [
        {
          "output_type": "execute_result",
          "data": {
            "text/html": [
              "<div>\n",
              "<style scoped>\n",
              "    .dataframe tbody tr th:only-of-type {\n",
              "        vertical-align: middle;\n",
              "    }\n",
              "\n",
              "    .dataframe tbody tr th {\n",
              "        vertical-align: top;\n",
              "    }\n",
              "\n",
              "    .dataframe thead th {\n",
              "        text-align: right;\n",
              "    }\n",
              "</style>\n",
              "<table border=\"1\" class=\"dataframe\">\n",
              "  <thead>\n",
              "    <tr style=\"text-align: right;\">\n",
              "      <th></th>\n",
              "      <th>Person_ID</th>\n",
              "      <th>AssessmentID</th>\n",
              "      <th>Case_ID</th>\n",
              "      <th>Agency_Text</th>\n",
              "      <th>Sex_Code_Text</th>\n",
              "      <th>Ethnic_Code_Text</th>\n",
              "      <th>ScaleSet</th>\n",
              "      <th>Language</th>\n",
              "      <th>LegalStatus</th>\n",
              "      <th>CustodyStatus</th>\n",
              "      <th>...</th>\n",
              "      <th>RecSupervisionLevel</th>\n",
              "      <th>RecSupervisionLevelText</th>\n",
              "      <th>ScoreText</th>\n",
              "      <th>AssessmentType</th>\n",
              "      <th>ViolenceScore</th>\n",
              "      <th>RecidivismScore</th>\n",
              "      <th>FailToAppearScore</th>\n",
              "      <th>Age</th>\n",
              "      <th>RecidivismEst</th>\n",
              "      <th>ScoreTextEst</th>\n",
              "    </tr>\n",
              "  </thead>\n",
              "  <tbody>\n",
              "    <tr>\n",
              "      <th>0</th>\n",
              "      <td>50844</td>\n",
              "      <td>57167</td>\n",
              "      <td>51950</td>\n",
              "      <td>PRETRIAL</td>\n",
              "      <td>Male</td>\n",
              "      <td>Caucasian</td>\n",
              "      <td>Risk and Prescreen</td>\n",
              "      <td>English</td>\n",
              "      <td>Pretrial</td>\n",
              "      <td>Jail Inmate</td>\n",
              "      <td>...</td>\n",
              "      <td>1</td>\n",
              "      <td>Low</td>\n",
              "      <td>Low</td>\n",
              "      <td>New</td>\n",
              "      <td>-2.08</td>\n",
              "      <td>-1.06</td>\n",
              "      <td>15.0</td>\n",
              "      <td>21</td>\n",
              "      <td>-0.95</td>\n",
              "      <td>Low</td>\n",
              "    </tr>\n",
              "    <tr>\n",
              "      <th>1</th>\n",
              "      <td>50848</td>\n",
              "      <td>57174</td>\n",
              "      <td>51956</td>\n",
              "      <td>PRETRIAL</td>\n",
              "      <td>Male</td>\n",
              "      <td>Caucasian</td>\n",
              "      <td>Risk and Prescreen</td>\n",
              "      <td>English</td>\n",
              "      <td>Pretrial</td>\n",
              "      <td>Jail Inmate</td>\n",
              "      <td>...</td>\n",
              "      <td>1</td>\n",
              "      <td>Low</td>\n",
              "      <td>Low</td>\n",
              "      <td>New</td>\n",
              "      <td>-2.84</td>\n",
              "      <td>-1.50</td>\n",
              "      <td>19.0</td>\n",
              "      <td>29</td>\n",
              "      <td>-1.14</td>\n",
              "      <td>Low</td>\n",
              "    </tr>\n",
              "    <tr>\n",
              "      <th>2</th>\n",
              "      <td>50855</td>\n",
              "      <td>57181</td>\n",
              "      <td>51963</td>\n",
              "      <td>PRETRIAL</td>\n",
              "      <td>Male</td>\n",
              "      <td>African-American</td>\n",
              "      <td>Risk and Prescreen</td>\n",
              "      <td>English</td>\n",
              "      <td>Pretrial</td>\n",
              "      <td>Jail Inmate</td>\n",
              "      <td>...</td>\n",
              "      <td>4</td>\n",
              "      <td>High</td>\n",
              "      <td>High</td>\n",
              "      <td>New</td>\n",
              "      <td>-1.20</td>\n",
              "      <td>0.18</td>\n",
              "      <td>13.0</td>\n",
              "      <td>19</td>\n",
              "      <td>0.28</td>\n",
              "      <td>High</td>\n",
              "    </tr>\n",
              "    <tr>\n",
              "      <th>3</th>\n",
              "      <td>50850</td>\n",
              "      <td>57176</td>\n",
              "      <td>51958</td>\n",
              "      <td>PRETRIAL</td>\n",
              "      <td>Female</td>\n",
              "      <td>African-American</td>\n",
              "      <td>Risk and Prescreen</td>\n",
              "      <td>English</td>\n",
              "      <td>Pretrial</td>\n",
              "      <td>Jail Inmate</td>\n",
              "      <td>...</td>\n",
              "      <td>2</td>\n",
              "      <td>Medium</td>\n",
              "      <td>Medium</td>\n",
              "      <td>New</td>\n",
              "      <td>-1.29</td>\n",
              "      <td>-0.53</td>\n",
              "      <td>11.0</td>\n",
              "      <td>19</td>\n",
              "      <td>-0.18</td>\n",
              "      <td>Medium</td>\n",
              "    </tr>\n",
              "    <tr>\n",
              "      <th>4</th>\n",
              "      <td>50839</td>\n",
              "      <td>57162</td>\n",
              "      <td>51945</td>\n",
              "      <td>PRETRIAL</td>\n",
              "      <td>Female</td>\n",
              "      <td>African-American</td>\n",
              "      <td>Risk and Prescreen</td>\n",
              "      <td>English</td>\n",
              "      <td>Pretrial</td>\n",
              "      <td>Jail Inmate</td>\n",
              "      <td>...</td>\n",
              "      <td>1</td>\n",
              "      <td>Low</td>\n",
              "      <td>Low</td>\n",
              "      <td>New</td>\n",
              "      <td>-2.90</td>\n",
              "      <td>-1.55</td>\n",
              "      <td>16.0</td>\n",
              "      <td>28</td>\n",
              "      <td>-1.45</td>\n",
              "      <td>Low</td>\n",
              "    </tr>\n",
              "  </tbody>\n",
              "</table>\n",
              "<p>5 rows × 21 columns</p>\n",
              "</div>"
            ],
            "text/plain": [
              "   Person_ID  AssessmentID  Case_ID Agency_Text Sex_Code_Text  \\\n",
              "0      50844         57167    51950    PRETRIAL          Male   \n",
              "1      50848         57174    51956    PRETRIAL          Male   \n",
              "2      50855         57181    51963    PRETRIAL          Male   \n",
              "3      50850         57176    51958    PRETRIAL        Female   \n",
              "4      50839         57162    51945    PRETRIAL        Female   \n",
              "\n",
              "   Ethnic_Code_Text            ScaleSet Language LegalStatus CustodyStatus  \\\n",
              "0         Caucasian  Risk and Prescreen  English    Pretrial   Jail Inmate   \n",
              "1         Caucasian  Risk and Prescreen  English    Pretrial   Jail Inmate   \n",
              "2  African-American  Risk and Prescreen  English    Pretrial   Jail Inmate   \n",
              "3  African-American  Risk and Prescreen  English    Pretrial   Jail Inmate   \n",
              "4  African-American  Risk and Prescreen  English    Pretrial   Jail Inmate   \n",
              "\n",
              "       ...      RecSupervisionLevel  RecSupervisionLevelText ScoreText  \\\n",
              "0      ...                        1                      Low       Low   \n",
              "1      ...                        1                      Low       Low   \n",
              "2      ...                        4                     High      High   \n",
              "3      ...                        2                   Medium    Medium   \n",
              "4      ...                        1                      Low       Low   \n",
              "\n",
              "  AssessmentType ViolenceScore  RecidivismScore  FailToAppearScore  Age  \\\n",
              "0            New         -2.08            -1.06               15.0   21   \n",
              "1            New         -2.84            -1.50               19.0   29   \n",
              "2            New         -1.20             0.18               13.0   19   \n",
              "3            New         -1.29            -0.53               11.0   19   \n",
              "4            New         -2.90            -1.55               16.0   28   \n",
              "\n",
              "   RecidivismEst  ScoreTextEst  \n",
              "0          -0.95           Low  \n",
              "1          -1.14           Low  \n",
              "2           0.28          High  \n",
              "3          -0.18        Medium  \n",
              "4          -1.45           Low  \n",
              "\n",
              "[5 rows x 21 columns]"
            ]
          },
          "metadata": {
            "tags": []
          },
          "execution_count": 37
        }
      ]
    },
    {
      "cell_type": "markdown",
      "metadata": {
        "id": "qOT7-M3Xyy1r",
        "colab_type": "text"
      },
      "source": [
        "Add estimates to Test Data"
      ]
    },
    {
      "cell_type": "code",
      "metadata": {
        "id": "1JzuPcs3ri8u",
        "colab_type": "code",
        "outputId": "29396c1a-8918-4aae-a816-3c694da98a11",
        "colab": {
          "base_uri": "https://localhost:8080/",
          "height": 338
        }
      },
      "source": [
        "test_data['RecidivismEst'] = RecidivismEstTest\n",
        "\n",
        "test_data['ScoreTextEst'] = le_dict['ScoreText'].inverse_transform(knn.predict(X_test))\n",
        "\n",
        "test_data.head()"
      ],
      "execution_count": 0,
      "outputs": [
        {
          "output_type": "execute_result",
          "data": {
            "text/html": [
              "<div>\n",
              "<style scoped>\n",
              "    .dataframe tbody tr th:only-of-type {\n",
              "        vertical-align: middle;\n",
              "    }\n",
              "\n",
              "    .dataframe tbody tr th {\n",
              "        vertical-align: top;\n",
              "    }\n",
              "\n",
              "    .dataframe thead th {\n",
              "        text-align: right;\n",
              "    }\n",
              "</style>\n",
              "<table border=\"1\" class=\"dataframe\">\n",
              "  <thead>\n",
              "    <tr style=\"text-align: right;\">\n",
              "      <th></th>\n",
              "      <th>Person_ID</th>\n",
              "      <th>AssessmentID</th>\n",
              "      <th>Case_ID</th>\n",
              "      <th>Agency_Text</th>\n",
              "      <th>Sex_Code_Text</th>\n",
              "      <th>Ethnic_Code_Text</th>\n",
              "      <th>ScaleSet</th>\n",
              "      <th>Language</th>\n",
              "      <th>LegalStatus</th>\n",
              "      <th>CustodyStatus</th>\n",
              "      <th>...</th>\n",
              "      <th>RecSupervisionLevel</th>\n",
              "      <th>RecSupervisionLevelText</th>\n",
              "      <th>ScoreText</th>\n",
              "      <th>AssessmentType</th>\n",
              "      <th>ViolenceScore</th>\n",
              "      <th>RecidivismScore</th>\n",
              "      <th>FailToAppearScore</th>\n",
              "      <th>Age</th>\n",
              "      <th>RecidivismEst</th>\n",
              "      <th>ScoreTextEst</th>\n",
              "    </tr>\n",
              "  </thead>\n",
              "  <tbody>\n",
              "    <tr>\n",
              "      <th>7160</th>\n",
              "      <td>21368</td>\n",
              "      <td>65072</td>\n",
              "      <td>20522</td>\n",
              "      <td>PRETRIAL</td>\n",
              "      <td>Male</td>\n",
              "      <td>African-American</td>\n",
              "      <td>Risk and Prescreen</td>\n",
              "      <td>English</td>\n",
              "      <td>Pretrial</td>\n",
              "      <td>Jail Inmate</td>\n",
              "      <td>...</td>\n",
              "      <td>2</td>\n",
              "      <td>Medium</td>\n",
              "      <td>Medium</td>\n",
              "      <td>Copy</td>\n",
              "      <td>-2.99</td>\n",
              "      <td>0.03</td>\n",
              "      <td>21.0</td>\n",
              "      <td>50</td>\n",
              "      <td>0.02</td>\n",
              "      <td>Medium</td>\n",
              "    </tr>\n",
              "    <tr>\n",
              "      <th>12597</th>\n",
              "      <td>61838</td>\n",
              "      <td>71072</td>\n",
              "      <td>64437</td>\n",
              "      <td>PRETRIAL</td>\n",
              "      <td>Male</td>\n",
              "      <td>African-American</td>\n",
              "      <td>Risk and Prescreen</td>\n",
              "      <td>English</td>\n",
              "      <td>Pretrial</td>\n",
              "      <td>Jail Inmate</td>\n",
              "      <td>...</td>\n",
              "      <td>1</td>\n",
              "      <td>Low</td>\n",
              "      <td>Low</td>\n",
              "      <td>New</td>\n",
              "      <td>-3.10</td>\n",
              "      <td>-1.75</td>\n",
              "      <td>20.0</td>\n",
              "      <td>29</td>\n",
              "      <td>-1.10</td>\n",
              "      <td>Low</td>\n",
              "    </tr>\n",
              "    <tr>\n",
              "      <th>4214</th>\n",
              "      <td>47819</td>\n",
              "      <td>61834</td>\n",
              "      <td>48429</td>\n",
              "      <td>PRETRIAL</td>\n",
              "      <td>Male</td>\n",
              "      <td>Caucasian</td>\n",
              "      <td>Risk and Prescreen</td>\n",
              "      <td>English</td>\n",
              "      <td>Pretrial</td>\n",
              "      <td>Pretrial Defendant</td>\n",
              "      <td>...</td>\n",
              "      <td>2</td>\n",
              "      <td>Medium</td>\n",
              "      <td>Medium</td>\n",
              "      <td>Copy</td>\n",
              "      <td>-1.69</td>\n",
              "      <td>-0.08</td>\n",
              "      <td>18.0</td>\n",
              "      <td>26</td>\n",
              "      <td>-0.09</td>\n",
              "      <td>Medium</td>\n",
              "    </tr>\n",
              "    <tr>\n",
              "      <th>5055</th>\n",
              "      <td>55114</td>\n",
              "      <td>62712</td>\n",
              "      <td>56903</td>\n",
              "      <td>PRETRIAL</td>\n",
              "      <td>Male</td>\n",
              "      <td>African-American</td>\n",
              "      <td>Risk and Prescreen</td>\n",
              "      <td>English</td>\n",
              "      <td>Pretrial</td>\n",
              "      <td>Jail Inmate</td>\n",
              "      <td>...</td>\n",
              "      <td>1</td>\n",
              "      <td>Low</td>\n",
              "      <td>Medium</td>\n",
              "      <td>New</td>\n",
              "      <td>-1.90</td>\n",
              "      <td>-0.43</td>\n",
              "      <td>13.0</td>\n",
              "      <td>20</td>\n",
              "      <td>-0.81</td>\n",
              "      <td>Low</td>\n",
              "    </tr>\n",
              "    <tr>\n",
              "      <th>18665</th>\n",
              "      <td>67147</td>\n",
              "      <td>77881</td>\n",
              "      <td>70490</td>\n",
              "      <td>Probation</td>\n",
              "      <td>Male</td>\n",
              "      <td>African-American</td>\n",
              "      <td>Risk and Prescreen</td>\n",
              "      <td>English</td>\n",
              "      <td>Post Sentence</td>\n",
              "      <td>Probation</td>\n",
              "      <td>...</td>\n",
              "      <td>1</td>\n",
              "      <td>Low</td>\n",
              "      <td>Low</td>\n",
              "      <td>New</td>\n",
              "      <td>-3.82</td>\n",
              "      <td>-1.76</td>\n",
              "      <td>20.0</td>\n",
              "      <td>57</td>\n",
              "      <td>-1.86</td>\n",
              "      <td>Low</td>\n",
              "    </tr>\n",
              "  </tbody>\n",
              "</table>\n",
              "<p>5 rows × 21 columns</p>\n",
              "</div>"
            ],
            "text/plain": [
              "       Person_ID  AssessmentID  Case_ID Agency_Text Sex_Code_Text  \\\n",
              "7160       21368         65072    20522    PRETRIAL          Male   \n",
              "12597      61838         71072    64437    PRETRIAL          Male   \n",
              "4214       47819         61834    48429    PRETRIAL          Male   \n",
              "5055       55114         62712    56903    PRETRIAL          Male   \n",
              "18665      67147         77881    70490   Probation          Male   \n",
              "\n",
              "       Ethnic_Code_Text            ScaleSet Language    LegalStatus  \\\n",
              "7160   African-American  Risk and Prescreen  English       Pretrial   \n",
              "12597  African-American  Risk and Prescreen  English       Pretrial   \n",
              "4214          Caucasian  Risk and Prescreen  English       Pretrial   \n",
              "5055   African-American  Risk and Prescreen  English       Pretrial   \n",
              "18665  African-American  Risk and Prescreen  English  Post Sentence   \n",
              "\n",
              "            CustodyStatus      ...      RecSupervisionLevel  \\\n",
              "7160          Jail Inmate      ...                        2   \n",
              "12597         Jail Inmate      ...                        1   \n",
              "4214   Pretrial Defendant      ...                        2   \n",
              "5055          Jail Inmate      ...                        1   \n",
              "18665           Probation      ...                        1   \n",
              "\n",
              "       RecSupervisionLevelText ScoreText AssessmentType ViolenceScore  \\\n",
              "7160                    Medium    Medium           Copy         -2.99   \n",
              "12597                      Low       Low            New         -3.10   \n",
              "4214                    Medium    Medium           Copy         -1.69   \n",
              "5055                       Low    Medium            New         -1.90   \n",
              "18665                      Low       Low            New         -3.82   \n",
              "\n",
              "       RecidivismScore  FailToAppearScore  Age  RecidivismEst  ScoreTextEst  \n",
              "7160              0.03               21.0   50           0.02        Medium  \n",
              "12597            -1.75               20.0   29          -1.10           Low  \n",
              "4214             -0.08               18.0   26          -0.09        Medium  \n",
              "5055             -0.43               13.0   20          -0.81           Low  \n",
              "18665            -1.76               20.0   57          -1.86           Low  \n",
              "\n",
              "[5 rows x 21 columns]"
            ]
          },
          "metadata": {
            "tags": []
          },
          "execution_count": 38
        }
      ]
    },
    {
      "cell_type": "markdown",
      "metadata": {
        "id": "RHsvnX2KdMi3",
        "colab_type": "text"
      },
      "source": [
        "## Visualization of Dataset\n",
        "\n",
        "After we have successfully cleaned and analyzed our dataset, we will plot our dataset to get and idea of what sort of data we have, and attempt to find the columns that will contain bias."
      ]
    },
    {
      "cell_type": "markdown",
      "metadata": {
        "id": "Ckve8cFadovW",
        "colab_type": "text"
      },
      "source": [
        "**Correlation between Age and Violence on Recidivism Score**\n",
        "\n",
        "---\n",
        "\n",
        "D E S C R I P T I O N\n",
        "\n",
        "Below we have a graph that plots Violence score on the x-axis and Age on the y-axis. The points are color-coded based on the range of the Recidivism Score of the criminal, and they are placed on the graph according to their age and violence score.\n",
        "\n",
        "Note that the minimum y value of the graph seems to be 16, because any younger criminals would just be sent to juvie.\n",
        "\n",
        "\n",
        "I N T E R P R E T A T I O N\n",
        "\n",
        "As the majority of the points are blue (indicating a low recidivism score) as the criminal is older, we can conclude that younger criminals are more likely to have a higher recidivism score (colored red). This is because the majority of high recidivism scores are plotted on the lower right region of the graph, where the young criminals (aged 16 - 25) are."
      ]
    },
    {
      "cell_type": "code",
      "metadata": {
        "id": "OHamudfkZiB8",
        "colab_type": "code",
        "outputId": "ebc1058c-7532-4f00-e387-32f62b94b81c",
        "colab": {
          "base_uri": "https://localhost:8080/",
          "height": 361
        }
      },
      "source": [
        "plt.scatter(x = test_data.ViolenceScore, y = test_data.Age, c = test_data.RecidivismEst, cmap='seismic')\n",
        "plt.xlabel('Violence Score')\n",
        "plt.ylabel('Age')\n",
        "cbar = plt.colorbar()\n",
        "cbar.set_label('Recidivism Estimate')"
      ],
      "execution_count": 0,
      "outputs": [
        {
          "output_type": "display_data",
          "data": {
            "image/png": "[encoded data removed]",
            "text/plain": [
              "<Figure size 576x396 with 2 Axes>"
            ]
          },
          "metadata": {
            "tags": []
          }
        }
      ]
    },
    {
      "cell_type": "markdown",
      "metadata": {
        "id": "c_u_h1QrdTnt",
        "colab_type": "text"
      },
      "source": [
        "**Correlation between Sex and Violence on Recidivism Score**\n",
        "\n",
        "---\n",
        "\n",
        "D E S C R I P T I O N\n",
        "\n",
        "Below we have a graph that plots Violence score on the x-axis and Recidivism score on the y-axis. The points are color-coded based on the Sex of the criminal, with dark red representing the males and blue for female. \n",
        "\n",
        "I N T E R P R E T A T I O N\n",
        "\n",
        "The majority of the inmates are male, so there is more red on the graph than blue, but at a glance, it seems that many of the blue points are clustered in the lower and middle parts of the graph, meaning that the majority of the female criminals are given a lower violence score and are consequently given a lower recidivism score, compared to the high scoring red points on the upper right. \n"
      ]
    },
    {
      "cell_type": "code",
      "metadata": {
        "id": "4NWbO4jR4LZz",
        "colab_type": "code",
        "outputId": "bfd3e1c0-07d8-435f-dd23-a37f1b949631",
        "colab": {
          "base_uri": "https://localhost:8080/",
          "height": 378
        }
      },
      "source": [
        "plt.scatter(x = test_data.ViolenceScore, y = test_data.RecidivismEst, c = X_test.Sex_Code_Text, cmap='seismic')\n",
        "plt.xlabel('ViolenceScore')\n",
        "plt.ylabel('RecidivismScore')"
      ],
      "execution_count": 0,
      "outputs": [
        {
          "output_type": "execute_result",
          "data": {
            "text/plain": [
              "Text(0,0.5,'RecidivismScore')"
            ]
          },
          "metadata": {
            "tags": []
          },
          "execution_count": 40
        },
        {
          "output_type": "display_data",
          "data": {
            "image/png": "[encoded data removed]",
            "text/plain": [
              "<Figure size 576x396 with 1 Axes>"
            ]
          },
          "metadata": {
            "tags": []
          }
        }
      ]
    },
    {
      "cell_type": "markdown",
      "metadata": {
        "id": "0SzAUcosYrTf",
        "colab_type": "text"
      },
      "source": [
        "**Correlation between Violence and Failure to Appear on Recidivism Score**\n",
        "_____\n",
        "\n",
        "D E S C R I P T I O N\n",
        "\n",
        "Below we have a graph that plots Violence score on the x-axis and the Failure to Appear score on the y-axis. The points are color-coded based on the the recidivism score so blue represents a lower score while red represents a higher score.\n",
        "\n",
        "I N T E R P R E T A T I O N\n",
        "\n",
        "The blue dots (low recidivism score) are mainly in the bottom left corner, which makes sense as these people have a lower violence score and have a lower Failure to Appear score, which meant they showed up, so they have a lower recidivism score. The people with a higher recidivism score tend to have a high violence score, but surprisingly, not all of them have a high \"Failure to Appear Score.\" There are many inmates with a high recidivism score that have a lower \"Failure to Appear\" score than inmates with a lower recidivism, showing that the Violence score seems to have a greater effect on recidivism than Failure to Appear. "
      ]
    },
    {
      "cell_type": "code",
      "metadata": {
        "id": "-mY88yuqJc3G",
        "colab_type": "code",
        "outputId": "a2fc8239-9478-4e50-c94a-0b5b5ebe7e67",
        "colab": {
          "base_uri": "https://localhost:8080/",
          "height": 361
        }
      },
      "source": [
        "plt.scatter(x = test_data.ViolenceScore, y = test_data.FailToAppearScore, c = test_data.RecidivismEst, cmap='seismic')\n",
        "plt.xlabel('Violence Score')\n",
        "plt.ylabel('Fail To Appear Score')\n",
        "cbar = plt.colorbar()\n",
        "cbar.set_label('Recidivism Estimate')"
      ],
      "execution_count": 0,
      "outputs": [
        {
          "output_type": "display_data",
          "data": {
            "image/png": "[encoded data removed]",
            "text/plain": [
              "<Figure size 576x396 with 2 Axes>"
            ]
          },
          "metadata": {
            "tags": []
          }
        }
      ]
    },
    {
      "cell_type": "markdown",
      "metadata": {
        "id": "p_6brItuaVmI",
        "colab_type": "text"
      },
      "source": [
        "**Correlation between Supervision Level and Failure to Appear on Recidivism Score**\n",
        "______\n",
        "\n",
        "\n",
        "D E S C R I P T I O N\n",
        "​\n",
        "\n",
        "Below we have a graph that plots Supervision Level score on the x-axis and the Failure to Appear score on the y-axis. The points are color-coded based on the the recidivism score so blue represents a lower score while red represents a higher score. There are 4 types of Supervision Level: Medium, Low, Medium with Override Consideration, and High.\n",
        "​\n",
        "\n",
        "I N T E R P R E T A T I O N\n",
        "\n",
        "The blue dots (low recidivism score) are all in the Low Supervision column, which makes sense as these inmates probably do not need as much supervision and are there for petty crimes. They also have the lowest \"Failure to Appear\" score. The people with a higher recidivism score tend to have more supervision. However, within the different shades of red (high recidivism score), there is no correlation between Supervision Level and Failure to Appear Score since the shades alternate (especially in the Medium Supervision column). The High Supervision column has the highest recidivism score of course."
      ]
    },
    {
      "cell_type": "code",
      "metadata": {
        "id": "cmrM0eXUKByo",
        "colab_type": "code",
        "outputId": "757e6549-5a5e-40e1-fc2d-8fb485a31385",
        "colab": {
          "base_uri": "https://localhost:8080/",
          "height": 361
        }
      },
      "source": [
        "#done so graph is in order\n",
        "test_data = test_data.sort_values(by = ['RecSupervisionLevel'])\n",
        "\n",
        "plt.scatter(x = test_data.RecSupervisionLevelText, y = test_data.ViolenceScore, c = test_data.RecidivismEst, cmap='seismic')\n",
        "plt.xlabel('RecSupervisionLevelText')\n",
        "plt.ylabel('ViolenceScore')\n",
        "cbar = plt.colorbar()\n",
        "cbar.set_label('Recidivism Estimate')"
      ],
      "execution_count": 0,
      "outputs": [
        {
          "output_type": "display_data",
          "data": {
            "image/png": "[encoded data removed]",
            "text/plain": [
              "<Figure size 576x396 with 2 Axes>"
            ]
          },
          "metadata": {
            "tags": []
          }
        }
      ]
    },
    {
      "cell_type": "markdown",
      "metadata": {
        "id": "OPeUHI6BncVF",
        "colab_type": "text"
      },
      "source": [
        "**Correlation between Age and Failure to Appear on Recidivism Score**\n",
        "\n",
        "---\n",
        "\n",
        "D E S C R I P T I O N\n",
        "\n",
        "Below we have a graph that plots Failure to Appear score on the x-axis and Age on the y-axis. The points are color-coded based on the range of the Recidivism Score of the criminall with blue dots representing a lower score and red representing a higher score.\n",
        "\n",
        "\n",
        "I N T E R P R E T A T I O N\n",
        "\n",
        "The majority of the blue dots (lower recidivism score) seem to be inmates with a lower Failure to Appear Score and older inmates (average around 50 years old). Inmates with a higher recidivism score (red dots) have a higher failure to appear score and are typically younger (average around 30 years old). Younger inmates seem to have a higher recidivism score and those with a higher Failure to Appear score have are more likely to have a higher recidivism score as well."
      ]
    },
    {
      "cell_type": "code",
      "metadata": {
        "id": "2XyL2yn6lIiU",
        "colab_type": "code",
        "outputId": "ec4f1bd3-b7e3-4d40-a4a7-8dcdbe10e4c6",
        "colab": {
          "base_uri": "https://localhost:8080/",
          "height": 361
        }
      },
      "source": [
        "plt.scatter(x = test_data.FailToAppearScore, y = test_data.Age, c = test_data.RecidivismEst, cmap='seismic')\n",
        "plt.xlabel('FailToAppearScore')\n",
        "plt.ylabel('Age')\n",
        "cbar = plt.colorbar()\n",
        "cbar.set_label('Recidivism Estimate')"
      ],
      "execution_count": 0,
      "outputs": [
        {
          "output_type": "display_data",
          "data": {
            "image/png": "[encoded data removed]",
            "text/plain": [
              "<Figure size 576x396 with 2 Axes>"
            ]
          },
          "metadata": {
            "tags": []
          }
        }
      ]
    },
    {
      "cell_type": "code",
      "metadata": {
        "id": "KFPkvHBVQ5lY",
        "colab_type": "code",
        "outputId": "129cff34-fa17-447f-dbe1-4326b1cf5135",
        "colab": {
          "base_uri": "https://localhost:8080/",
          "height": 378
        }
      },
      "source": [
        "plt.scatter(x = test_data.RecidivismScore, y = test_data.RecidivismEst)\n",
        "plt.xlabel('RecidivismScore')\n",
        "plt.ylabel('RecidivismEst')"
      ],
      "execution_count": 0,
      "outputs": [
        {
          "output_type": "execute_result",
          "data": {
            "text/plain": [
              "Text(0,0.5,'RecidivismEst')"
            ]
          },
          "metadata": {
            "tags": []
          },
          "execution_count": 44
        },
        {
          "output_type": "display_data",
          "data": {
            "image/png": "[encoded data removed]",
            "text/plain": [
              "<Figure size 576x396 with 1 Axes>"
            ]
          },
          "metadata": {
            "tags": []
          }
        }
      ]
    },
    {
      "cell_type": "markdown",
      "metadata": {
        "id": "X4DbCgJZYWBV",
        "colab_type": "text"
      },
      "source": [
        "## Assumptions\n",
        "\n",
        "Based on our above visualizations, we are assuming that the following columns are the columns that create bias:\n",
        "\n",
        "\n",
        "1.   Sex\n",
        "2.   Race\n",
        "1.   Assessment_Type (repeated incrimination)\n",
        "\n",
        "\n",
        "\n",
        "\n",
        "\n"
      ]
    },
    {
      "cell_type": "markdown",
      "metadata": {
        "id": "Zqqic77ZGL5b",
        "colab_type": "text"
      },
      "source": [
        "# Analysis "
      ]
    },
    {
      "cell_type": "markdown",
      "metadata": {
        "id": "kH6kDfGjGhyh",
        "colab_type": "text"
      },
      "source": [
        "Apparently our dataset is biased towards certain people, perhaps our next step is to show *how* the results are biased.\n",
        "\n",
        "In our analysis, we assume that a **low** recidivism score is **good**, because it assumes the criminal is unlikely to be jailed again, and a **high** recidivism score is **bad** because it indicates the criminal is more likely to be jailed again.\n",
        "\n",
        "Using both the Scikitlearn and Themis-ML Logistical Regression function, we are able to compare and observe which function, based on the same dataset, concludes a certain group of people is deemed by the algorithm to have a higher chance of recidivism. As for the **metric** that will help us determine the amount of bias present in the result, we decided to calculate the **mean difference** between the advantaged and disadvantaged groups.\n"
      ]
    },
    {
      "cell_type": "code",
      "metadata": {
        "id": "Qc8MwJPdGALO",
        "colab_type": "code",
        "outputId": "04007b84-192f-409e-b52a-3db0b6e92d51",
        "colab": {
          "base_uri": "https://localhost:8080/",
          "height": 51
        }
      },
      "source": [
        "!pip install -q themis-ml"
      ],
      "execution_count": 0,
      "outputs": [
        {
          "output_type": "stream",
          "text": [
            "\u001b[K    100% |████████████████████████████████| 9.0MB 1.7MB/s \n",
            "\u001b[?25h  Building wheel for themis-ml (setup.py) ... \u001b[?25ldone\n",
            "\u001b[?25h"
          ],
          "name": "stdout"
        }
      ]
    },
    {
      "cell_type": "code",
      "metadata": {
        "id": "EEbQEmpbXfP8",
        "colab_type": "code",
        "colab": {}
      },
      "source": [
        "from themis_ml.metrics import mean_difference\n",
        "from themis_ml.linear_model import LinearACFClassifier\n",
        "from themis_ml.meta_estimators import FairnessAwareMetaEstimator\n",
        "from sklearn.base import BaseEstimator"
      ],
      "execution_count": 0,
      "outputs": []
    },
    {
      "cell_type": "markdown",
      "metadata": {
        "id": "3pCp4HZQRs5E",
        "colab_type": "text"
      },
      "source": [
        "## Dropping Language\n",
        "\n",
        "The reason why we decided to drop the Languages column in our analysis because after we took a look at the dataset we realized that on average, there were only about 16-17 Spanish speakers in the training data. \n",
        "\n",
        "To accurately estimate whether there is bias in our dataset based on the language of which the assessment was conducted, we need at least 30 samples. So the best course of action was to completely omit the consideration of language in our analysis.\n",
        "\n",
        "For this reason, we may also drop other data that has an insufficient number of samples to create a more accurate bias analysis of the dataset."
      ]
    },
    {
      "cell_type": "markdown",
      "metadata": {
        "id": "uLF2aeWfzdRO",
        "colab_type": "text"
      },
      "source": [
        "## Protected classes"
      ]
    },
    {
      "cell_type": "markdown",
      "metadata": {
        "id": "amfyS77q058C",
        "colab_type": "text"
      },
      "source": [
        "Protected classes: when we’re calculating mean differences using the Themis-ML package, we have to identify what we initially believed to be the advantaged group (labeled 0) and the disadvantaged group (labeled as 1) \n",
        "\n",
        "The mean difference function returns the average for the advantaged group subtracted by the disadvantaged group. \n",
        "\n",
        "So for example, if our mean difference is a negative value, then the bias is in favor of the disadvantaged group.\n",
        "\n",
        "**Mean diff = p(y+ | s0) - p(y+ |s1)**\n",
        "\n",
        "This following section of code encodes our data in order to prepare the appropriate columns in our bias analysis. "
      ]
    },
    {
      "cell_type": "code",
      "metadata": {
        "id": "1oskE3WJMRCd",
        "colab_type": "code",
        "colab": {}
      },
      "source": [
        "y_protected = np.array([int(val <= 0) for val in training_data.RecidivismScore])\n",
        "y_protected_test = np.array([int(val <= 0) for val in test_data.RecidivismScore])\n",
        "y_protected_skl = np.array([int(val <= 0) for val in test_data.RecidivismEst])"
      ],
      "execution_count": 0,
      "outputs": []
    },
    {
      "cell_type": "markdown",
      "metadata": {
        "id": "UzxGuvbw2wlz",
        "colab_type": "text"
      },
      "source": [
        "## Encoding Training & Testing Data\n",
        "To check bias, we have to have a binary array called `s` in which someone in an advantaged group has a value of `0` and someone in a disadvantaged group has a value of `1`.\n",
        "\n",
        "To take care of this, we made a function called `make_s` which takes in the parameters\n",
        "\n",
        "*   `df` which is the dataframe we are getting the values from\n",
        "*   `col` which is the column name\n",
        "*   `a` which is the advantaged group name or an array of advantaged group names\n",
        "\n",
        "`s` is the encoded values\n"
      ]
    },
    {
      "cell_type": "code",
      "metadata": {
        "id": "hTZ7Vlwf1Tlv",
        "colab_type": "code",
        "colab": {}
      },
      "source": [
        "def make_s(df, col, a):\n",
        "  if (type(a) == str):\n",
        "    return np.array([int(val != a) for val in df[col]])\n",
        "        \n",
        "  elif (type(a) == list):\n",
        "    return np.array([int(a.count(val) == 0) for val in df[col]])\n",
        "  \n",
        "  else:\n",
        "    return -1"
      ],
      "execution_count": 0,
      "outputs": []
    },
    {
      "cell_type": "markdown",
      "metadata": {
        "id": "_rjCBN7F1G6J",
        "colab_type": "text"
      },
      "source": [
        "Here, we are encoding the training and testing data we will use while checking for bias based on sex. Initially, we guessed the advantaged group (the group that will have a higher recidivism score) is male, so we assigned them to the 0 group and the females to 1."
      ]
    },
    {
      "cell_type": "code",
      "metadata": {
        "id": "iYd2Z-2LzKW0",
        "colab_type": "code",
        "colab": {}
      },
      "source": [
        "col_sex = 'Sex_Code_Text'\n",
        "a_sex = 'Male'\n",
        "\n",
        "s_sex = make_s(training_data, col_sex, a_sex)\n",
        "    \n",
        "s_sex_test = make_s(test_data, col_sex, a_sex)"
      ],
      "execution_count": 0,
      "outputs": []
    },
    {
      "cell_type": "markdown",
      "metadata": {
        "id": "81fa0stf3HJZ",
        "colab_type": "text"
      },
      "source": [
        "When checking for bias of our dataset for race, we guessed initially that the advantaged group was Caucasian, and the disadvantaged group was all of the minority groups. Due to how the Themis-ML function is written, it can only check the bias of two groups at a time. Therefore, the following code is to filter the Caucasians into group 0 and all other minority groups into group 1."
      ]
    },
    {
      "cell_type": "code",
      "metadata": {
        "id": "igLKzYEr2T6F",
        "colab_type": "code",
        "colab": {}
      },
      "source": [
        "col_race = 'Ethnic_Code_Text'\n",
        "a_race = 'Caucasian'\n",
        "\n",
        "s_race = make_s(training_data, col_race, a_race)\n",
        "    \n",
        "s_race_test = make_s(test_data, col_race, a_race)"
      ],
      "execution_count": 0,
      "outputs": []
    },
    {
      "cell_type": "markdown",
      "metadata": {
        "id": "grOgpI6L4Ib7",
        "colab_type": "text"
      },
      "source": [
        "Now we're checking whether the algorithm is biased towards returning inmates. We encoded the advantaged group to be first-time inmates and the disadvantaged group to be returning inmates. Therefore, our initial guess is that the algorithm is more likely to assign first-time offenders a higher residivism score. "
      ]
    },
    {
      "cell_type": "code",
      "metadata": {
        "id": "V4VOmoryBOtU",
        "colab_type": "code",
        "colab": {}
      },
      "source": [
        "col_lang = 'Language'\n",
        "a_lang = 'English'\n",
        "\n",
        "s_lang = make_s(training_data, col_lang, a_lang)\n",
        "    \n",
        "s_lang_test = make_s(test_data, col_lang, a_lang)"
      ],
      "execution_count": 0,
      "outputs": []
    },
    {
      "cell_type": "markdown",
      "metadata": {
        "id": "Ie2-cbfHbYRQ",
        "colab_type": "text"
      },
      "source": [
        "On a high level, this is a function that obtains the p-value of a t-distribution when given a confidence interval as a parameter. \n"
      ]
    },
    {
      "cell_type": "code",
      "metadata": {
        "id": "lqjpy8gZvSre",
        "colab_type": "code",
        "colab": {}
      },
      "source": [
        "from scipy.stats import t\n",
        "\n",
        "def p_val(y, s):\n",
        "  meandiff, lower, upper = mean_difference(y, s)\n",
        "  em = (upper - lower) / 2\n",
        "  df = len(s) - 2\n",
        "  t_val = t.ppf(0.975, df)\n",
        "  numerator = meandiff\n",
        "  demoninator = em / t_val\n",
        "  T_stat = numerator / demoninator\n",
        "  return t.sf(np.abs(T_stat), df)*2"
      ],
      "execution_count": 0,
      "outputs": []
    },
    {
      "cell_type": "markdown",
      "metadata": {
        "id": "NTRwnRIb3M_H",
        "colab_type": "text"
      },
      "source": [
        "## Performing LogReg"
      ]
    },
    {
      "cell_type": "markdown",
      "metadata": {
        "id": "Upwkn-563Zh_",
        "colab_type": "text"
      },
      "source": [
        "Logistical Regression Analysis using Themis-ML function (and Scikitlearn?)\n",
        "\n",
        "When interpreting our results, note that we have a p-value and various confidence intervals involved with the bias of the dataset and predictions.\n",
        "\n",
        "When the p-value is extremely low, this means that there is an impossibly low probability that there's no bias, so when the **p-value is very low, there's definitely bias involved in the column**."
      ]
    },
    {
      "cell_type": "markdown",
      "metadata": {
        "id": "5S4pz3EG7EYe",
        "colab_type": "text"
      },
      "source": [
        "### Bias Based on Sex\n"
      ]
    },
    {
      "cell_type": "code",
      "metadata": {
        "id": "_9RR-AlwKZOb",
        "colab_type": "code",
        "outputId": "0c10f30f-58dc-40c5-91a4-685a77e2f9fb",
        "colab": {
          "base_uri": "https://localhost:8080/",
          "height": 119
        }
      },
      "source": [
        "X_sex = X.drop(['Sex_Code_Text'], axis = 1)\n",
        "lr_sex = LinearACFClassifier()\n",
        "lr_sex.fit(X_sex, y_protected, s_sex)\n",
        "\n",
        "pred_y_sex = lr_sex.predict(X_sex, s_sex)\n",
        "\n",
        "X_sex_test = X_test.drop(['Sex_Code_Text'], axis = 1)\n",
        "\n",
        "pred_y_sex_test = lr_sex.predict(X_sex_test, s_sex_test)\n",
        "\n",
        "print('training mean diff for sex = %f with 95%% CI [%f, %f]' %mean_difference(y_protected, s_sex))\n",
        "print('with p-value %f for no bias\\n' %(p_val(y_protected, s_sex)))\n",
        "\n",
        "print('test mean diff for sex w/ actual score = %f with 95%% CI [%f, %f]' %mean_difference(y_protected_test, s_sex_test))\n",
        "print('test mean diff for sex w/ estimated score w/ themis = %f with 95%% CI [%f, %f]' %mean_difference(pred_y_sex_test, s_sex_test))\n",
        "print('test mean diff for sex w/ estimated score w/ skl = %f with 95%% CI [%f, %f]' %mean_difference(y_protected_skl, s_sex_test))\n"
      ],
      "execution_count": 0,
      "outputs": [
        {
          "output_type": "stream",
          "text": [
            "training mean diff for sex = -0.112262 with 95% CI [-0.126910, -0.097614]\n",
            "with p-value 0.000000 for no bias\n",
            "\n",
            "test mean diff for sex w/ actual score = -0.106834 with 95% CI [-0.136154, -0.077515]\n",
            "test mean diff for sex w/ estimated score w/ themis = 0.028472 with 95% CI [-0.000946, 0.057889]\n",
            "test mean diff for sex w/ estimated score w/ skl = -0.016550 with 95% CI [-0.044253, 0.011154]\n"
          ],
          "name": "stdout"
        }
      ]
    },
    {
      "cell_type": "markdown",
      "metadata": {
        "id": "nnnt5EmS7JA1",
        "colab_type": "text"
      },
      "source": [
        "**Results**\n",
        "\n",
        "When checking for bias of our dataset for sex, we guessed initially that the advantaged group was male. The following are the results, with the the first representing the bias based on sex of the original dataset, and the last representing the bias-adjusted result using Themis-ML:\n",
        " \n",
        "\n",
        "\n",
        "1.   test mean diff for sex w/ actual score = -0.106834 with 95% CI [-0.136154, -0.077515]\n",
        "2.  test mean diff for sex w/ estimated score w/ themis = -0.061653 with 95% CI [-0.091022, -0.032283]\n",
        "1.   test mean diff for sex w/ estimated score w/ skl = -0.016550 with 95% CI [-0.044253, 0.011154]\n",
        "\n",
        "**Interpreting mean differences**\n",
        "Based on our results, because the first mean difference of the original dataset was negative, we know that the original dataset was biased towards the disadvantaged group (female). Therefore, the **females had** a (on average) **lower recidivism score** compared to the males, because the algorithm was **more likely to assign a higher recidivism score to males**. As for our prediction model, we observe that the themis prediction is more biased towards females than the Scikit Learn model.\n",
        "\n",
        "Also, the p-value was 0, meaning there was** definitely bias** based on sex. \n"
      ]
    },
    {
      "cell_type": "markdown",
      "metadata": {
        "id": "WWVlT-Y53_Ji",
        "colab_type": "text"
      },
      "source": [
        "### Bias Based on Race\n",
        "\n",
        "The following is the most controversial part of our criminal recidivism project. Given the heated controversies we have today over the bias of police profiling and arrests against people of color, we were particularly interested in our project to observe the amount of bias the dataset contains comparing the the various racial groups together.    \n",
        "\n",
        "Additionally, based on the way the Logistical Regession function of Themis-ML is written, we can only check the bias of two groups at a time. In the following subsections, although algorithmically we can only check the bias of two groups at a time, we manually grouped the racial groups in the \"Encoding\" section into two larger groups (ie. Caucasians in group 0, all other minorities in group 1)"
      ]
    },
    {
      "cell_type": "markdown",
      "metadata": {
        "id": "cyaODxx_7jCB",
        "colab_type": "text"
      },
      "source": [
        "**White vs Minority groups**\n",
        "\n",
        "When checking for bias of our dataset for race, we guessed initially that the advantaged group was Caucasian, and the disadvantaged group was all of the minority groups. Due to how the Themis-ML function is written, it can only check the bias of two groups at a time. Therefore, the following code is to filter the Caucasians into group 0 and all other minority groups into group 1.\n"
      ]
    },
    {
      "cell_type": "code",
      "metadata": {
        "id": "TdvcUI6XTFTr",
        "colab_type": "code",
        "outputId": "b64fea75-5bf1-4175-a854-34c4333781ae",
        "colab": {
          "base_uri": "https://localhost:8080/",
          "height": 119
        }
      },
      "source": [
        "X_race = X.drop(['Ethnic_Code_Text'], axis = 1)\n",
        "lr_race = LinearACFClassifier()\n",
        "lr_race.fit(X_race, y_protected, s_race)\n",
        "\n",
        "pred_y_race = lr_race.predict(X_race, s_race)\n",
        "\n",
        "X_race_test = X_test.drop(['Ethnic_Code_Text'], axis = 1)\n",
        "\n",
        "pred_y_race_test = lr_race.predict(X_race_test, s_race_test)\n",
        "\n",
        "print('training mean diff for race = %f with 95%% CI [%f, %f]' %mean_difference(y_protected, s_race))\n",
        "print('with p-value %f for no bias\\n' %(p_val(y_protected, s_race)))\n",
        "\n",
        "print('test mean diff for race w/ actual score = %f with 95%% CI [%f, %f]' %mean_difference(y_protected_test, s_race_test))\n",
        "print('test mean diff for race w/ estimated score = %f with 95%% CI [%f, %f]' %mean_difference(pred_y_race_test, s_race_test))\n",
        "print('test mean diff for race w/ estimated score w/ skl = %f with 95%% CI [%f, %f]' %mean_difference(y_protected_skl, s_race_test))\n"
      ],
      "execution_count": 0,
      "outputs": [
        {
          "output_type": "stream",
          "text": [
            "training mean diff for race = 0.117668 with 95% CI [0.105041, 0.130296]\n",
            "with p-value 0.000000 for no bias\n",
            "\n",
            "test mean diff for race w/ actual score = 0.147975 with 95% CI [0.123182, 0.172767]\n",
            "test mean diff for race w/ estimated score = 0.009770 with 95% CI [-0.015225, 0.034764]\n",
            "test mean diff for race w/ estimated score w/ skl = 0.128254 with 95% CI [0.104911, 0.151596]\n"
          ],
          "name": "stdout"
        }
      ]
    },
    {
      "cell_type": "markdown",
      "metadata": {
        "id": "A3y30iCw9C3X",
        "colab_type": "text"
      },
      "source": [
        "The following are the results, with the the first representing the bias based on race of the original dataset, and the last representing the bias-adjusted result using Themis-ML:\n",
        "\n",
        "\n",
        "1. training mean diff for race = 0.147975 with 95% CI [0.123182, 0.172767]\n",
        "\n",
        "2. test mean diff for race w/ actual score = 0.124266 with 95% CI [0.099602, 0.148931]\n",
        "\n",
        "3. test mean diff for race w/ estimated score = 0.128254 with 95% CI [0.104911, 0.151596]\n",
        "\n",
        "\n",
        "Here, we have a positive mean difference, indicating that the algorithm is biased towards the advantaged group-- therefore white criminals are assigned a lower recidivism score compared to criminals of color. This shows that our algorithm aligns with reality proving again through our dataset that incrimination is more likely in non-white groups (sad).\n",
        "\n",
        "Interestingly, we observed that the predicted bias using the Themis-ML function, which was 12.43% was a bit lower than that of the original logistical regression function, which was 12.83%, so it is a bit better of an unbiased prediction, but not too great of a difference.\n",
        "\n",
        "Again, the p-value is 0, meaning there is definitely **bias in the data based on race**. \n"
      ]
    },
    {
      "cell_type": "markdown",
      "metadata": {
        "id": "CeuXJOIA_ZUc",
        "colab_type": "text"
      },
      "source": [
        "### Bias Based on Repeated Incrimination"
      ]
    },
    {
      "cell_type": "markdown",
      "metadata": {
        "id": "JBGPbxO6Eqqs",
        "colab_type": "text"
      },
      "source": [
        "When checking whether the algorithm is biased against people who have been arrested more than once from 2013-2014, we guessed initially that the advantaged group was the group of first-time offenders, and the disadvantaged group was a returning offender. Therefore, our initial guess is that the algorithm is more likely to assign first-time offenders a higher recidivism score."
      ]
    },
    {
      "cell_type": "markdown",
      "metadata": {
        "id": "_e-y5jOGEtQ4",
        "colab_type": "text"
      },
      "source": [
        "The following are the results, with the the first representing the bias based on whether the criminal involved has been previously arrested of the original dataset, and the last representing the bias-adjusted result using Themis-ML:\n",
        "\n",
        "1. training mean diff for Assessment Type = 0.249199 with 95% CI [0.204255, 0.294143]\n",
        "\n",
        "2. test mean diff for Assessment Type w/ actual score = 0.124733 with 95% CI [0.080236, 0.169230]\n",
        "\n",
        "3. test mean diff for Assessment Type w/ estimated score = 0.189904 with 95% CI [0.147484, 0.232323]\n",
        "\n",
        "Here, we have a positive mean difference, indicating that the algorithm is biased towards the advantaged group. Therefore the first time offenders are assigned a lower recidivism score compared to returning offenders. \n",
        "\n",
        "The predicted bias using the Themis-ML function 12.47% and the predicted bias using the original logistical regression function is 19% so we concluded that the Themis-ML function is significantly less biased than the original logistic regression function.\n",
        "\n",
        "The p-value is also 0 in this case, indicating that there is definitely **bias on repeated incrimination**. \n",
        " \n",
        " "
      ]
    },
    {
      "cell_type": "code",
      "metadata": {
        "id": "CDRWGdE3Bazl",
        "colab_type": "code",
        "outputId": "affa920d-cbc3-4ad5-cded-140067584ecb",
        "colab": {
          "base_uri": "https://localhost:8080/",
          "height": 119
        }
      },
      "source": [
        "X_lang = X.drop(['Language'], axis = 1)\n",
        "lr_lang = LinearACFClassifier()\n",
        "lr_lang.fit(X_lang, y_protected, s_lang)\n",
        "\n",
        "pred_y_lang = lr_lang.predict(X_lang, s_lang)\n",
        "\n",
        "X_lang_test = X_test.drop(['Language'], axis = 1)\n",
        "\n",
        "pred_y_lang_test = lr_lang.predict(X_lang_test, s_lang_test)\n",
        "\n",
        "print('training mean diff for lang = %f with 95%% CI [%f, %f]' %mean_difference(y_protected, s_lang))\n",
        "print('with p-value %f for no bias\\n' %(p_val(y_protected, s_lang)))\n",
        "\n",
        "print('test mean diff for Assesment Type w/ actual score = %f with 95%% CI [%f, %f]' %mean_difference(y_protected_test, s_lang_test))\n",
        "print('test mean diff for Assesment Type w/ estimated score = %f with 95%% CI [%f, %f]' %mean_difference(pred_y_lang_test, s_lang_test))\n",
        "print('test mean diff for Assesment w/ estimated score w/ skl = %f with 95%% CI [%f, %f]' %mean_difference(y_protected_skl, s_lang_test))"
      ],
      "execution_count": 0,
      "outputs": [
        {
          "output_type": "stream",
          "text": [
            "training mean diff for lang = -0.181695 with 95% CI [-0.276890, -0.086501]\n",
            "with p-value 0.000184 for no bias\n",
            "\n",
            "test mean diff for Assesment Type w/ actual score = -0.193860 with 95% CI [-0.381859, -0.005861]\n",
            "test mean diff for Assesment Type w/ estimated score = 0.163538 with 95% CI [-0.023349, 0.350425]\n",
            "test mean diff for Assesment w/ estimated score w/ skl = -0.165140 with 95% CI [-0.341719, 0.011439]\n"
          ],
          "name": "stdout"
        }
      ]
    },
    {
      "cell_type": "markdown",
      "metadata": {
        "id": "39PjKp3ShRYh",
        "colab_type": "text"
      },
      "source": [
        "# Accuracy & Fairness\n",
        "\n",
        "In our attempt to closely analyze the fairness of our Themis prediction, we plotted the fairness of each the data involving the columns we thought had bias and the error. \n",
        "\n",
        "For our purposes, error is the difference between the actual recidivism score and the estimated recidivism score. Positive error indicates that the estimate was more lenient and negative error indicates that the estimate was more harsh.\n",
        "\n",
        "For fairness, we passed our bias estimators through `FairnessAwareMetaEstimator` and used the probablility of lower recidivism score."
      ]
    },
    {
      "cell_type": "markdown",
      "metadata": {
        "id": "2y1pwE3Omrbo",
        "colab_type": "text"
      },
      "source": [
        "## Sex\n",
        "\n",
        "D E S C R I P T I O N ​\n",
        "\n",
        "Below we have a graph that plots the amount of “fairness” on the x-axis and the error (actual subtracted from predicted) on the y-axis. The points are color-coded based on the the sex of the criminal, with red representing women and blue representing men.  ​\n",
        "\n",
        "I N T E R P R E T A T I O N\n",
        "\n",
        "When the **fairness is low**, the predictive algorithm is more likely give the criminal a **lower recidivism score**. We were able to make this conclusion because a considerable amount of points on clustering on the left are above the y = 0 line, indicating that the majority of the errors (actual - predicted) are positive. \n",
        "\n",
        "When the **fairness is high**, the predictive algorithm seems to err, giving the criminal a recidivism score that’s both too high and too low just as often. Therefore, that’s why there’s a pretty even amount of points both in the positive and negative regions on the graph. In fact, when the fairness is high, the **prediction seems to make larger errors**. "
      ]
    },
    {
      "cell_type": "code",
      "metadata": {
        "id": "Tx9XxSAqXFXP",
        "colab_type": "code",
        "outputId": "f21b5add-537c-4116-858f-166f12bf093c",
        "colab": {
          "base_uri": "https://localhost:8080/",
          "height": 378
        }
      },
      "source": [
        "fairness_sex = FairnessAwareMetaEstimator(lr_sex)\n",
        "fairness_sex.fit(X_sex, y_protected, s_sex)\n",
        "\n",
        "\n",
        "fair_y_sex_test = fairness_sex.predict_proba(X_sex_test, s_sex_test)\n",
        "\n",
        "fair_y_sex_test = np.array([val[1] for val in fair_y_sex_test])\n",
        "\n",
        "error_sex_test = [(x.RecidivismScore - x.RecidivismEst) for x in test_data.itertuples()]\n",
        "\n",
        "plt.scatter(x = fair_y_sex_test, y = error_sex_test, c = s_sex_test, cmap='seismic')\n",
        "plt.xlabel('fairness')\n",
        "plt.ylabel('error')"
      ],
      "execution_count": 0,
      "outputs": [
        {
          "output_type": "execute_result",
          "data": {
            "text/plain": [
              "Text(0,0.5,'error')"
            ]
          },
          "metadata": {
            "tags": []
          },
          "execution_count": 56
        },
        {
          "output_type": "display_data",
          "data": {
            "image/png": "[encoded data removed]",
            "text/plain": [
              "<Figure size 576x396 with 1 Axes>"
            ]
          },
          "metadata": {
            "tags": []
          }
        }
      ]
    },
    {
      "cell_type": "markdown",
      "metadata": {
        "id": "m-iYcooKnBwc",
        "colab_type": "text"
      },
      "source": [
        "## Race\n",
        "\n",
        "D E S C R I P T I O N ​\n",
        "\n",
        "Below we have a graph that plots the amount of “fairness” on the x-axis and the error (actual subtracted from predicted) on the y-axis. The points are color-coded based on the the race of the criminal, with red representing people of color and blue representing Caucasian.  ​\n",
        "\n",
        "I N T E R P R E T A T I O N\n",
        "\n",
        "When the **fairness is low**, the predictive algorithm is more likely give the criminal a **lower recidivism score**. We were able to make this conclusion because a considerable amount of points on clustering on the left are above the y = 0 line, indicating that the majority of the errors (actual - predicted) are positive. Additionally, the majority of the points clustering here on the left are red, indicating that a sufficient amount of the Caucasian criminals are given a lower recidivism score by the prediction algorithm than they actually deserve. \n",
        "\n",
        "When the **fairness is high**, the predictive algorithm seems to err, giving the criminal a recidivism score that’s both too high and too low just as often. Therefore, that’s why there’s a pretty even amount of points both in the positive and negative regions on the graph. In fact, when the fairness is high, the **prediction seems to make larger errors**. \n",
        " \n"
      ]
    },
    {
      "cell_type": "code",
      "metadata": {
        "id": "bPXerVcbSCnJ",
        "colab_type": "code",
        "outputId": "899d93c3-f645-4a22-f20b-2ffb8829c562",
        "colab": {
          "base_uri": "https://localhost:8080/",
          "height": 378
        }
      },
      "source": [
        "fairness_race = FairnessAwareMetaEstimator(lr_race)\n",
        "fairness_race.fit(X_race, y_protected, s_race)\n",
        "\n",
        "\n",
        "fair_y_race_test = fairness_race.predict_proba(X_race_test, s_race_test)\n",
        "\n",
        "fair_y_race_test = np.array([val[1] for val in fair_y_race_test])\n",
        "\n",
        "error_race_test = [(x.RecidivismScore - x.RecidivismEst) for x in test_data.itertuples()]\n",
        "\n",
        "plt.scatter(x = fair_y_race_test, y = error_race_test, c = s_race_test, cmap='seismic')\n",
        "plt.xlabel('fairness')\n",
        "plt.ylabel('error')"
      ],
      "execution_count": 0,
      "outputs": [
        {
          "output_type": "execute_result",
          "data": {
            "text/plain": [
              "Text(0,0.5,'error')"
            ]
          },
          "metadata": {
            "tags": []
          },
          "execution_count": 57
        },
        {
          "output_type": "display_data",
          "data": {
            "image/png": "[encoded data removed]",
            "text/plain": [
              "<Figure size 576x396 with 1 Axes>"
            ]
          },
          "metadata": {
            "tags": []
          }
        }
      ]
    },
    {
      "cell_type": "code",
      "metadata": {
        "id": "oyBWh4s-gYck",
        "colab_type": "code",
        "outputId": "91249fa6-14d5-417d-a53b-91f36c56c02d",
        "colab": {
          "base_uri": "https://localhost:8080/",
          "height": 361
        }
      },
      "source": [
        "plt.scatter(x = test_data.Sex_Code_Text, y = test_data.ViolenceScore, c = test_data.RecidivismEst, cmap='seismic')\n",
        "plt.ylabel('Violence Score')\n",
        "plt.xlabel('Gender')\n",
        "cbar = plt.colorbar()\n",
        "cbar.set_label('Recidivism Estimate')"
      ],
      "execution_count": 0,
      "outputs": [
        {
          "output_type": "display_data",
          "data": {
            "image/png": "[encoded data removed]",
            "text/plain": [
              "<Figure size 576x396 with 2 Axes>"
            ]
          },
          "metadata": {
            "tags": []
          }
        }
      ]
    }
  ]
}